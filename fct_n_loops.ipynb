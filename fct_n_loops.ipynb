{
 "cells": [
  {
   "cell_type": "markdown",
   "id": "8994685f",
   "metadata": {},
   "source": [
    "# Functions and Loops "
   ]
  },
  {
   "cell_type": "markdown",
   "id": "d4dc7a3f",
   "metadata": {},
   "source": [
    "## I.   Branching Loops and Fucntions \n",
    "\n",
    "\n",
    "\n",
    "### i.   IF statements\n",
    "\n",
    "Psudocode looks like\n",
    "```\n",
    "    if condition_i: \n",
    "        statement1\n",
    "        statement2\n",
    "    elif condition_ii:\n",
    "        statement3\n",
    "        statement4\n",
    "    else:\n",
    "        statement5\n",
    "        statement6\n",
    "```\n",
    "In a `if` loop, the `statements` will only get executed if the `condition1` holds `True`. \n",
    "\n",
    "If the initial `if` statement is false and you have `elif` (a.k.a. otherwise if/ else if), then `statement3` and `statement4` will get executed until `condidtion2` is `False`. \n",
    "\n",
    "When all conditions turn out `False` and an `else` statement is present, then `statement5` and `statement6` will get executed and the `if` loop is done. \n",
    "\n"
   ]
  },
  {
   "cell_type": "code",
   "execution_count": 1,
   "id": "140e848f",
   "metadata": {},
   "outputs": [
    {
     "name": "stdout",
     "output_type": "stream",
     "text": [
      "What is your number? 7\n",
      "Your number is odd. \n"
     ]
    }
   ],
   "source": [
    "your_number = int(input(\"What is your number? \"))\n",
    "if your_number % 2 == 0: \n",
    "    print(\"Your number is even. \")\n",
    "else: \n",
    "    print(\"Your number is odd. \")"
   ]
  },
  {
   "cell_type": "markdown",
   "id": "9c23cb7c",
   "metadata": {},
   "source": [
    "### ii. Iterations with `while` loops\n",
    "\n",
    "Psudeocode looks like...\n",
    "```\n",
    "    while condition:\n",
    "        statement\n",
    "```\n",
    "In a `while` loop, the `statement` is executed repeatedly (iterated) for as long as the `condition` holds `True`. \n",
    "\n",
    "\n",
    "An example as follows \n"
   ]
  },
  {
   "cell_type": "code",
   "execution_count": 3,
   "id": "04ae4809",
   "metadata": {},
   "outputs": [
    {
     "name": "stdout",
     "output_type": "stream",
     "text": [
      "Your Guess: 6\n",
      "Incorrect, try again...\n",
      "Your Guess: 3\n",
      "You've guessed correctly!\n"
     ]
    }
   ],
   "source": [
    "# Guessing Game\n",
    "secret_number = 3\n",
    "guess_count = 0\n",
    "guess_limit = 3\n",
    "\n",
    "# while guess_count < guess_limit: \n",
    "#     guess = int(input(\"Your Guess: \"))\n",
    "#     if guess == secret_number: \n",
    "#         print(\"You've guessed correctly!\")\n",
    "#         break\n",
    "#     else:\n",
    "        \n",
    "#         print(\"Incorrect, try again...\")\n",
    "#         guess_count += 1\n",
    "# else:\n",
    "#     print(\"Ran out of guesses!\")\n",
    "\n",
    "\n",
    "while guess_count < guess_limit: \n",
    "    guess = int(input(\"Your Guess: \"))\n",
    "    if guess not in range(11): \n",
    "        print(\"My number is between 0 and 10\")\n",
    "        continue\n",
    "    elif guess != secret_number:\n",
    "        print(\"Incorrect, try again...\")\n",
    "        guess_count += 1\n",
    "    else:\n",
    "        print(\"You've guessed correctly!\")\n",
    "        break\n",
    "else:\n",
    "    print(\"Ran out of guesses!\")"
   ]
  },
  {
   "cell_type": "code",
   "execution_count": null,
   "id": "ac9be57f",
   "metadata": {},
   "outputs": [],
   "source": [
    "# Factorial \n",
    "\n",
    "result = 1\n",
    "i = 1\n",
    "number = int(input(\"> \"))\n",
    "\n",
    "while i <= number:\n",
    "    result *= i\n",
    "    i += 1\n",
    "print(f\"the factorial of {number} is {result}\")\n"
   ]
  },
  {
   "cell_type": "code",
   "execution_count": 4,
   "id": "6534beb7",
   "metadata": {},
   "outputs": [
    {
     "name": "stdout",
     "output_type": "stream",
     "text": [
      "*\n",
      "**\n",
      "***\n",
      "****\n",
      "*****\n",
      "****\n",
      "***\n",
      "**\n",
      "*\n"
     ]
    }
   ],
   "source": [
    "# Let's create Patterns!\n",
    "\n",
    "line = \"*\"\n",
    "max_length = 5\n",
    "\n",
    "while len(line) < max_length:\n",
    "    print(line)\n",
    "    line += \"*\"\n",
    "while len(line) > 0:\n",
    "    print(line)\n",
    "    line = line[:-1]\n",
    "\n",
    "\n",
    "# while len(line) < max_length:\n",
    "#     print(line.center(max_length-1))\n",
    "#     line += \"*\"\n",
    "# while len(line) > 0:\n",
    "#     print(line.center(max_length))\n",
    "#     line = line[:-1]"
   ]
  },
  {
   "cell_type": "markdown",
   "id": "ebb41cc8",
   "metadata": {},
   "source": [
    "### iii. `break` and `continue` statements\n",
    "\n",
    "If you use a `break` statement w/in a loop, you will immediately stop the exicution of the loop and _break_ (or exit) out of the loop. EVEN if the contitions of the loop (i.e. `while`) still hold true. \n",
    "\n",
    "The `continue` statement will not immediately end the loop, but will skip to the next ~~iteration of the~~ loop. "
   ]
  },
  {
   "cell_type": "markdown",
   "id": "bab9396d",
   "metadata": {},
   "source": [
    "### iv. Iterations with `for` loops\n",
    "\n",
    "A `for` loops is used to iterate/loop through a sequence (i.e. list, tuples, dictionaries, strings, and _ranges_. \n",
    "\n",
    "Psudocod as follows\n",
    "\n",
    "```\n",
    "    for value in sequence:\n",
    "        statement(s)\n",
    "```\n",
    "\n",
    "The `statement(s)` within are excecuted once for every element within the `sequence`."
   ]
  },
  {
   "cell_type": "code",
   "execution_count": 8,
   "id": "df1153b9",
   "metadata": {},
   "outputs": [
    {
     "name": "stdout",
     "output_type": "stream",
     "text": [
      "monday\n",
      "tuesday\n",
      "wednesday\n",
      "thursday\n",
      "friday\n",
      "saturday\n",
      "sunday\n"
     ]
    }
   ],
   "source": [
    "week = [\"Monday\", \"Tuesday\", \"Wednesday\", \"Thursday\", \"Friday\", \"Saturday\", \"Sunday\"]\n",
    "\n",
    "for day in week:\n",
    "    print(day.lower())"
   ]
  },
  {
   "cell_type": "code",
   "execution_count": 210,
   "id": "ba5d2455",
   "metadata": {},
   "outputs": [
    {
     "name": "stdout",
     "output_type": "stream",
     "text": [
      "My name is Alex Rou\n",
      "My age is 23\n",
      "And I am a gamer.\n",
      "My birth place is Spfld\n"
     ]
    }
   ],
   "source": [
    "# Using `for` loop on a dictionary\n",
    "\n",
    "person = {\n",
    "    \"name\" : \"Alex Rou\", \n",
    "    \"age\" : 23, \n",
    "    \"gamer\" : True\n",
    "}\n",
    "\n",
    "person[\"birth place\"] = \"Spfld\"\n",
    "\n",
    "for key in person:\n",
    "    if key.lower() == \"gamer\":\n",
    "        if person[\"gamer\"] == True:\n",
    "            print(f\"And I am a gamer.\")\n",
    "        else:\n",
    "            print(f\"And I am not a gamer. \")\n",
    "    else:\n",
    "        print(f\"My {key} is {person[key]}\")"
   ]
  },
  {
   "cell_type": "markdown",
   "id": "6da82da9",
   "metadata": {},
   "source": [
    "#### a. Iterating through a `range` or `enumerate`\n",
    "\n",
    "The `range` fct creates a sequence that can be iterated over using `for` loops. \n",
    "\n",
    "* `range(n)` : creates a sequence of #s from `0` to `n-1`\n",
    "* `range(a, b)` : creates a sequence of #s from `a` to `b-1`\n",
    "* `range(a, b, step)` : creates a sequence of #s from `a` to `b-1` in increments of `step`\n"
   ]
  },
  {
   "cell_type": "code",
   "execution_count": 211,
   "id": "4210b10d",
   "metadata": {},
   "outputs": [
    {
     "name": "stdout",
     "output_type": "stream",
     "text": [
      "st\n",
      "Monday is the 1None day of the week\n",
      "nd\n",
      "Tuesday is the 2None day of the week\n",
      "rd\n",
      "Wednesday is the 3None day of the week\n",
      "th\n",
      "Thursday is the 4None day of the week\n",
      "th\n",
      "Friday is the 5None day of the week\n",
      "th\n",
      "Saturday is the 6None day of the week\n",
      "th\n",
      "Sunday is the 7None day of the week\n"
     ]
    }
   ],
   "source": [
    "week = [\"Monday\", \"Tuesday\", \"Wednesday\", \"Thursday\", \"Friday\", \"Saturday\", \"Sunday\"]\n",
    "\n",
    "def proper(day):\n",
    "    if day == 0:\n",
    "        print(\"st\")\n",
    "    elif day == 1:\n",
    "        print(\"nd\")\n",
    "    elif day == 2: \n",
    "        print(\"rd\")\n",
    "    else:\n",
    "        print(\"th\")\n",
    "\n",
    "\n",
    "# trying to find a way to bridge these two to get \"1st\" or \"2nd\", etc\n",
    "        \n",
    "for day in week:\n",
    "    print(f\"{day} is the {(week.index(day)+1)}{proper(week.index(day))} day of the week\")"
   ]
  },
  {
   "cell_type": "code",
   "execution_count": 34,
   "id": "d290532d",
   "metadata": {},
   "outputs": [
    {
     "name": "stdout",
     "output_type": "stream",
     "text": [
      "I am avaliable from 10-6\n",
      "I am avaliable from 10-6\n",
      "I am avaliable from 10-6\n",
      "I am avaliable from 10-6\n",
      "I am avaliable from 10-6\n",
      "I don't work on Saturday, please return on Monday\n",
      "I don't work on Sunday, please return on Monday\n"
     ]
    }
   ],
   "source": [
    "week = [\"Monday\", \"Tuesday\", \"Wednesday\", \"Thursday\", \"Friday\", \"Saturday\", \"Sunday\"]\n",
    "\n",
    "for day in week:\n",
    "    if day == \"Saturday\" or day == \"Sunday\":\n",
    "        print(f\"I don't work on {day}, please reach out on {week.begin}\")\n",
    "    else: \n",
    "        print(f\"I am avaliable from 10-6\")"
   ]
  },
  {
   "cell_type": "code",
   "execution_count": 215,
   "id": "d1c80446",
   "metadata": {},
   "outputs": [
    {
     "name": "stdout",
     "output_type": "stream",
     "text": [
      "name : Alex Rou\n",
      "age : 23\n",
      "gamer : True\n",
      "job : Unemployed\n",
      " \n",
      "name : Ayla Thorn\n",
      "age : 22\n",
      "gamer : False\n",
      "job : Law\n",
      " \n",
      "name : Ora LeM\n",
      "age : 45\n",
      "gamer : False\n",
      "job : Tax\n",
      " \n"
     ]
    }
   ],
   "source": [
    "persons = [{\n",
    "    \"name\" : \"Alex Rou\", \n",
    "    \"age\" : 23, \n",
    "    \"gamer\" : True,\n",
    "    \"job\" : \"Unemployed\"\n",
    "}, \n",
    "{\n",
    "    \"name\" : \"Ayla Thorn\", \n",
    "    \"age\" : 22, \n",
    "    \"gamer\" : False, \n",
    "    \"job\" : \"Law\"\n",
    "}, \n",
    "{\n",
    "    \"name\" : \"Ora LeM\", \n",
    "    \"age\" : 45, \n",
    "    \"gamer\" : False, \n",
    "    \"job\" : \"Tax\"}]\n",
    "\n",
    "\n",
    "\n",
    "for person in persons:\n",
    "    for key in person:\n",
    "        print(f\"{key} : {person[key]}\")\n",
    "    print(\" \")"
   ]
  },
  {
   "cell_type": "markdown",
   "id": "39c464ce",
   "metadata": {},
   "source": [
    "## II. Functions \n",
    "\n",
    "If you dont wanna reuse the same code over and over again, you create a fucntion and call upon it whenever...\n",
    "\n",
    "Psudocode: \n",
    "```\n",
    "    def function_name(): \n",
    "        code\n",
    "        code\n",
    "\n",
    "\n",
    "# continue __TWO LINES AFTER FCT__\n",
    "```\n",
    "Functions can also have parameters. \n",
    "\n",
    "Let's see an example..."
   ]
  },
  {
   "cell_type": "code",
   "execution_count": 8,
   "id": "644b159e",
   "metadata": {},
   "outputs": [
    {
     "name": "stdout",
     "output_type": "stream",
     "text": [
      "[24, 12, 4, 10]\n"
     ]
    },
    {
     "data": {
      "text/plain": [
       "[24, 12, 4, 10]"
      ]
     },
     "execution_count": 8,
     "metadata": {},
     "output_type": "execute_result"
    }
   ],
   "source": [
    "# INPUT: \n",
    "#    list of numbers \n",
    "# OUTPUT: \n",
    "#    a new list of the even elements of the given list \n",
    "\n",
    "def extract_evens(list):\n",
    "    even_list = []\n",
    "    for number in list:\n",
    "        if number % 2 == 0:\n",
    "            even_list.append(number)\n",
    "    return even_list\n",
    "\n",
    "\n",
    "list = (24, 69, 57, 12, 4, 9, 10)\n",
    "\n",
    "print(extract_evens(list))\n",
    "extract_evens(list)\n",
    "#      dont know diff between the outputs"
   ]
  },
  {
   "cell_type": "markdown",
   "id": "56c65674",
   "metadata": {},
   "source": [
    "NOW let's create a GREAT function. Creating functions are a vital role of a programmer so lets kick tings off with a... \n",
    "\n",
    "__**EXERCISE:**__\n",
    "\n",
    "> Alex is planning on buying a house tht cost $1,260,000$ dollars. There are two options to finacnce this house...\n",
    ">\n",
    "> * Option 1: Make immidiate downpayment of $300,000$, and take an 8-year loan with an interest rate of 10% per annum (compounded monthly) for the remaining amount. \n",
    "> * Option 2: Take a 10-year loan with an interest rate of 8% (compounded monthly) for the entire amount. \n",
    ">\n",
    "> Both these loans have to be paid back in equal monthly installments (EMIs). Which loan has a lower EMI? \n",
    "\n",
    "NOTE:\n",
    "EMI for a loan is....\n",
    "```\n",
    "    EMI = (P * r *(1+r)^n )/( (1+r)^n - 1)\n",
    "```\n",
    "Where\n",
    "* `P` : loan amount\n",
    "* `r` : interest rate per month\n",
    "* `n` : number of months\n",
    "\n",
    "Since we need to compare the EMIs for two loan options, defining a function to calculate the EMI for a loan would be a great idea. The inputs to the function would be cost of the house, the down payment, duration of the loan, rate of interest etc. \n"
   ]
  },
  {
   "cell_type": "code",
   "execution_count": 43,
   "id": "06b5c6b6",
   "metadata": {},
   "outputs": [
    {
     "name": "stdout",
     "output_type": "stream",
     "text": [
      "Price: 1260000\n",
      "How much are you willing to put down for a downpayment: 300000\n",
      " \n",
      "Option 1 has a more affordable EMI at $14567.2\n",
      "Versus that of Option 2 at 15287.28\n"
     ]
    }
   ],
   "source": [
    "def option1(price, down_payment):\n",
    "    \n",
    "    interest_rate = 10/100\n",
    "    years = 8\n",
    "    \n",
    "    price -= down_payment\n",
    "    m_rate = interest_rate/12\n",
    "    duration = years*12\n",
    "    emi_opt1 = ( price*m_rate*((1+m_rate)**duration) )/( ((1+m_rate)**duration) - 1 ) \n",
    "    return emi_opt1\n",
    "\n",
    "\n",
    "def option2(price):\n",
    "    \n",
    "    interest_rate = 8/100\n",
    "    years = 10\n",
    "    \n",
    "    m_rate = interest_rate/12\n",
    "    duration = years*12\n",
    "    emi_opt2 = ( price*m_rate*((1+m_rate)**duration) )/( ((1+m_rate)**duration) - 1 ) \n",
    "    return emi_opt2 \n",
    "\n",
    "\n",
    "# This will tell you the EMI of the loan payment depending on whether or not you want to put down a downpayment\n",
    "#\n",
    "# def loan_emi():\n",
    "#     price = int(input(\"Price: \"))\n",
    "#     down_payment_yn = input(\"Do you want to put down a downpayment? (Y/N): \")\n",
    "#     down_payment = int(input(\"How much: \"))\n",
    "#     if down_payment_yn == \"Y\":\n",
    "#         print(f\"Your EMI is ${option1(price, down_payment)}\")\n",
    "#         return option1(price, down_payment)\n",
    "#     elif down_payment_yn == \"N\":\n",
    "#         print(f\"Your EMI is ${option2(price)}\")\n",
    "#         return option2(price)\n",
    "#     else:\n",
    "#         print(\"This is a Y/N answer. Try again. \")\n",
    "\n",
    "\n",
    "# This will compare the EMIs of the two finacing options\n",
    "#\n",
    "def loan_emi():\n",
    "    price = int(input(\"Price: \"))\n",
    "    down_payment = int(input(\"How much are you willing to put down for a downpayment: \"))\n",
    "    emi_opt1 = option1(price, down_payment)\n",
    "    emi_opt2 = option2(price)\n",
    "    if emi_opt1 < emi_opt2:\n",
    "        print(\" \")\n",
    "        print(f\"Option 1 has a more affordable EMI at ${round(emi_opt1, 2)}\")\n",
    "        print(f\"Versus that of Option 2 at {round(emi_opt2, 2)}\")\n",
    "    elif emi_opt1 == emi_opt2: \n",
    "        print(\" \")\n",
    "        print(f\"Both options has the same EMI at ${round(emi_opt2, 2)}.\")\n",
    "    elif emi_opt1 > emi_opt2:\n",
    "        print(\" \")\n",
    "        print(f\"Option 2 has a more affordable EMI at ${round(emi_opt2, 2)}\")\n",
    "        print(f\"Versus that of Option 1 at {round(emi_opt1, 2)}\")\n",
    "\n",
    "loan_emi()"
   ]
  },
  {
   "cell_type": "markdown",
   "id": "5a8c08c2",
   "metadata": {},
   "source": [
    "### i. Modules\n",
    "\n",
    "Modules are files containing Python code (variables, functions, classes, etc.). \n",
    "\n",
    "They provide a way of organizing the code for large Python projects into files and folders. \n",
    "\n",
    "The key benefit of using modules is namespaces: you must import the module to use its functions within a Python script or notebook. Namespaces provide encapsulation and avoid naming conflicts between your code and a module or across modules."
   ]
  },
  {
   "cell_type": "code",
   "execution_count": 50,
   "id": "6fd2f421",
   "metadata": {},
   "outputs": [
    {
     "name": "stdout",
     "output_type": "stream",
     "text": [
      "Help on built-in function ceil in module math:\n",
      "\n",
      "ceil(x, /)\n",
      "    Return the ceiling of x as an Integral.\n",
      "    \n",
      "    This is the smallest integer >= x.\n",
      "\n",
      "2\n"
     ]
    }
   ],
   "source": [
    "# First you import the module\n",
    "import math \n",
    "\n",
    "# Can use `help()` to find out more\n",
    "help(math.ceil)\n",
    "\n",
    "print(math.ceil(1.98))"
   ]
  },
  {
   "cell_type": "markdown",
   "id": "dabcb379",
   "metadata": {},
   "source": [
    "**SO** lets use the `loan_emi()` so that we can use to solve many other similar problems with just a few lines of code...\n",
    "\n",
    ">Shaun is currently paying back a home loan for a house he bought a few years ago. The cost of the house was $800,000$ dollars. Shaun made a down payment of 25% of the price. He financed the remaining amount using a 6-year loan with an interest rate of 7% per annum (compounded monthly). Shaun is now buying a car worth $60,000$ dollars, which he is planning to finance using a 1-year loan with an interest rate of 12% per annum. Both loans are paid back in EMIs. What is the total monthly payment Shaun makes towards loan repayment?"
   ]
  },
  {
   "cell_type": "code",
   "execution_count": 60,
   "id": "d2da5d23",
   "metadata": {},
   "outputs": [
    {
     "name": "stdout",
     "output_type": "stream",
     "text": [
      "The monthly house payment is $10229.4\n",
      "The monthly car payment is $5330.93\n",
      "The total monthly payment is $15560.33\n"
     ]
    }
   ],
   "source": [
    "def loan_emi(price, duration, interest_rate, down_payment=0):\n",
    "    \n",
    "    price -= down_payment\n",
    "    m_rate = (interest_rate/100)/12\n",
    "    emi = ( price*m_rate*((1+m_rate)**duration) )/( ((1+m_rate)**duration) - 1 ) \n",
    "    \n",
    "    return emi\n",
    "\n",
    "\n",
    "house_price = 800000\n",
    "house_down_pay = house_price*0.25\n",
    "house_duration = 6*12\n",
    "house_interest_rate = 7\n",
    "\n",
    "car_price = 60000\n",
    "car_duration = 1*12\n",
    "car_interest_rate = 12\n",
    "\n",
    "house_emi = round(loan_emi(price = house_price,\n",
    "                     duration = house_duration, \n",
    "                     interest_rate = house_interest_rate,\n",
    "                     down_payment=house_down_pay), 2)\n",
    "\n",
    "car_emi = round(loan_emi(price = car_price,\n",
    "                     duration = car_duration, \n",
    "                     interest_rate = car_interest_rate), 2)\n",
    "\n",
    "print(f\"The monthly house payment is ${house_emi}\")\n",
    "print(f'The monthly car payment is ${car_emi}')\n",
    "\n",
    "print(f\"The total monthly payment is ${house_emi + car_emi}\")\n"
   ]
  },
  {
   "cell_type": "markdown",
   "id": "29bd9977",
   "metadata": {},
   "source": [
    "### ii. Exceptions and `try`-`except`\n",
    "\n",
    "These will help dealing with errors. \n",
    "\n",
    "Example as follows....\n",
    "\n",
    ">If you borrow $100,000$ using a 10-year loan with an interest rate of $9$% per annum, what is the total amount you end up paying as interest?\n",
    "\n",
    "\n",
    "This problem is interesting. To Solve this we find EMI with interest rate of $9$% and subtract from that the EMI with $0$% interest. \n",
    "\n",
    "```\n",
    "    emi_with_interest = loan_emi(price=100000, duration = (10*12), interest_rate=9)\n",
    "    emi_with_interest\n",
    "    \n",
    "    emi_without_interest = loan_emi(price=100000, duration = (10*12), interest_rate=0)\n",
    "    emi_without_interest\n",
    "```\n",
    "\n",
    "If you run `emi_without_interest` you will get an error **ZeroDivisionError**. This is b/c in the `loan_emi` function, we divide by zero in the equation to calculte EMI. \n",
    "\n",
    "But we can override this..."
   ]
  },
  {
   "cell_type": "code",
   "execution_count": 65,
   "id": "e2efc72e",
   "metadata": {},
   "outputs": [
    {
     "name": "stdout",
     "output_type": "stream",
     "text": [
      "Cannot divide by zero\n"
     ]
    }
   ],
   "source": [
    "loan_emi(price=100000, duration = (10*12), interest_rate=9)\n",
    "\n",
    "try:\n",
    "    loan_emi(price=100000, duration = (10*12), interest_rate=0)\n",
    "except ZeroDivisionError: \n",
    "    print(\"Cannot divide by zero\")"
   ]
  },
  {
   "cell_type": "markdown",
   "id": "dd1af7b4",
   "metadata": {},
   "source": [
    "So now we detected an error and applied `try`-`except` to it. Now lets enhance the `loan_emi()` fct to handle scenarios where interest rate is $0$%. "
   ]
  },
  {
   "cell_type": "code",
   "execution_count": 77,
   "id": "2b26f6b8",
   "metadata": {},
   "outputs": [
    {
     "name": "stdout",
     "output_type": "stream",
     "text": [
      "The total interest rate paid is $52010.93\n"
     ]
    }
   ],
   "source": [
    "def loan_emi(price, duration, interest_rate, down_payment=0):\n",
    "    \"\"\"\n",
    "    OUTPUT:\n",
    "        Calculates Equal Monthly Installments (EMI) for a loan. \n",
    "    \n",
    "    INPUTS:\n",
    "        price = loan amount\n",
    "        durations = loan length, in months\n",
    "        interest rate = self explanatory\n",
    "        down_payment = not necessery as default is 0\n",
    "    \"\"\"\n",
    "    try:\n",
    "        price -= down_payment\n",
    "        rate = (interest_rate/100)/12\n",
    "        emi = ( price*rate*((1+rate)**duration) )/( ((1+rate)**duration) - 1 ) \n",
    "    except ZeroDivisionError:\n",
    "        emi = price/duration\n",
    "    return emi\n",
    "\n",
    "\n",
    "emi_with_interest = loan_emi(price=100000, duration = (10*12), interest_rate=9)\n",
    "emi_with_interest\n",
    "\n",
    "emi_without_interest = loan_emi(price=100000, duration = (10*12), interest_rate=0)\n",
    "emi_without_interest\n",
    "\n",
    "total_interest = (emi_with_interest - emi_without_interest)*10*12 # aka. *duration\n",
    "print(f\"The total interest rate paid is ${round(total_interest, 2)}\")"
   ]
  },
  {
   "cell_type": "markdown",
   "id": "822456ac",
   "metadata": {},
   "source": [
    "**NOTE:**\n",
    "    You should use proper documentation when creating fcts, like you see above in the `\"\"\"   \"\"\"`. With documentation, you can call upon the fct with `help()` and your documentation will appear. "
   ]
  },
  {
   "cell_type": "markdown",
   "id": "4bb29e3c",
   "metadata": {},
   "source": [
    "## Exercise - Data Analysis for Vacation Planning\n",
    "\n",
    "You're planning a vacation, and you need to decide which city you want to visit. You have shortlisted four cities and identified the return flight cost, daily hotel cost, and weekly car rental cost. While renting a car, you need to pay for entire weeks, even if you return the car sooner.\n",
    "\n",
    "\n",
    "| City | Return Flight (`$`) | Hotel per day (`$`) | Weekly Car Rental  (`$`) | \n",
    "|------|--------------------------|------------------|------------------------|\n",
    "| Paris|       200                |       20         |          200           |\n",
    "| London|      250                |       30         |          120           |\n",
    "| Dubai|       370                |       15         |          80           |\n",
    "| Mumbai|      450                |       10         |          70           |         \n",
    "\n",
    "\n",
    "Answer the following questions using the data above:\n",
    "\n",
    "1. If you're planning a 1-week long trip, which city should you visit to spend the least amount of money?\n",
    "2. How does the answer to the previous question change if you change the trip's duration to four days, ten days or two weeks?\n",
    "3. If your total budget for the trip is `$1000`, which city should you visit to maximize the duration of your trip? Which city should you visit if you want to minimize the duration?\n",
    "4. How does the answer to the previous question change if your budget is `$600`, `$2000`, or `$1500`?\n",
    "\n",
    "*Hint: To answer these questions, it will help to define a function `cost_of_trip` with relevant inputs like flight cost, hotel rate, car rental rate, and duration of the trip. You may find the `math.ceil` function useful for calculating the total cost of car rental.*"
   ]
  },
  {
   "cell_type": "code",
   "execution_count": 200,
   "id": "569490fe",
   "metadata": {},
   "outputs": [
    {
     "name": "stdout",
     "output_type": "stream",
     "text": [
      "The cheapest vacation for 7 days will be at Paris for $540 comparied to,\n",
      "London at $580,\n",
      "Dubai at $555,\n",
      "and Mumbai at $590\n",
      " \n"
     ]
    }
   ],
   "source": [
    "# 1. If you're planning a 1-week long trip, which city should you visit to spend the least amount of money?\n",
    "\n",
    "def cost_of_trip(flight_cost, hotel_rate, rental_rate, duration):\n",
    "    \"\"\"\n",
    "    OUTPUT: \n",
    "        this will calculaate the total price of a trip. \n",
    "    \n",
    "    INPUT:\n",
    "        flight_cost = in dollars\n",
    "        hotel_rate = cost of hotel per day\n",
    "        rental_rate : price per week (can only rent car in week periods) \n",
    "                    'math.ceil(duration/7_days_a_week)'\n",
    "        duration = duration of trip (in days) \n",
    "    \"\"\"\n",
    "    \n",
    "    hotel_cost = duration * hotel_rate\n",
    "    rental_cost = rental_rate * math.ceil(duration/7)\n",
    "    \n",
    "    total_cost = flight_cost + hotel_cost + rental_cost\n",
    "    return total_cost\n",
    "\n",
    "# duration = 7\n",
    "\n",
    "paris_total = cost_of_trip(flight_cost=200, hotel_rate=20, rental_rate=200, duration=7)\n",
    "london_total = cost_of_trip(flight_cost=250, hotel_rate=30, rental_rate=120, duration=7)\n",
    "dubai_total = cost_of_trip(flight_cost=370, hotel_rate=15, rental_rate=80, duration=7)\n",
    "mumbai_total = cost_of_trip(flight_cost=450, hotel_rate=10, rental_rate=70, duration=7)\n",
    "\n",
    "trip_prices = [paris_total, london_total, dubai_total, mumbai_total]\n",
    "\n",
    "def cheapest_location(trip_prices, duration): \n",
    "    \"\"\"\n",
    "    Will select and communicate the cheapest vacation spot while also comparing prices to other locations \n",
    "    \"\"\"\n",
    "    best_location = trip_prices[0]\n",
    "    for place in trip_prices: \n",
    "        if best_location > place:\n",
    "            best_location = place\n",
    "            \n",
    "    if best_location == trip_prices[0]:\n",
    "        print(f\"The cheapest vacation for {duration} days will be at Paris for ${trip_prices[0]} comparied to,\")\n",
    "        print(f\"London at ${trip_prices[1]},\")\n",
    "        print(f\"Dubai at ${trip_prices[2]},\")\n",
    "        print(f\"and Mumbai at ${trip_prices[3]}\")\n",
    "        print(\" \")\n",
    "    elif best_location == trip_prices[1]:\n",
    "        print(f\"The cheapest vacation for {duration} days will be at London for ${trip_prices[1]} comparied to, \")\n",
    "        print(f\"paris at ${trip_prices[0]},\")\n",
    "        print(f\"Dubai at ${trip_prices[2]},\")\n",
    "        print(f\"and Mumbai at ${trip_prices[3]}\")\n",
    "        print(\" \")\n",
    "    elif best_location == trip_prices[2]:\n",
    "        print(f\"The cheapest vacation for {duration} days will be at Dubai for ${trip_prices[2]} comparied to, \")\n",
    "        print(f\"Paris at ${trip_prices[0]},\")\n",
    "        print(f\"London at ${trip_prices[1]},\")\n",
    "        print(f\"and Mumbai at ${trip_prices[3]}\")\n",
    "        print(\" \")\n",
    "    elif best_location == trip_prices[3]:\n",
    "        print(f\"The cheapest vacation for {duration} days will be at Mumbai for ${trip_prices[3]} comparied to \")\n",
    "        print(f\"Paris at ${trip_prices[0]}\")\n",
    "        print(f\"London at ${trip_prices[1]}\")\n",
    "        print(f\"Dubai at ${trip_prices[2]}\")\n",
    "        print(\" \")\n",
    "\n",
    "\n",
    "cheapest_location(trip_prices, duration= 7)"
   ]
  },
  {
   "cell_type": "code",
   "execution_count": 165,
   "id": "d8655c67",
   "metadata": {},
   "outputs": [
    {
     "name": "stdout",
     "output_type": "stream",
     "text": [
      "The cheapest vacation for 4 days will be at Paris for $480 comparied to,\n",
      "London at $490,\n",
      "Dubai at $510,\n",
      "and Mumbai at $560\n",
      " \n",
      "The cheapest vacation for 10 days will be at Dubai for $680 comparied to, \n",
      "Paris at $800,\n",
      "London at $790,\n",
      "and Mumbai at $690\n",
      " \n",
      "The cheapest vacation for 14 days will be at Mumbai for $730 comparied to \n",
      "Paris at $880\n",
      "London at $910\n",
      "Dubai at $740\n",
      " \n"
     ]
    }
   ],
   "source": [
    "# 2. How does the answer to the previous question change if you change the trip's duration to... \n",
    "#          four days? \n",
    "#          ten days?\n",
    "#          two weeks?\n",
    "\n",
    "\n",
    "# duration = 4\n",
    "paris_total_4d = cost_of_trip(flight_cost=200, hotel_rate=20, rental_rate=200, duration=4)\n",
    "london_total_4d = cost_of_trip(flight_cost=250, hotel_rate=30, rental_rate=120, duration=4)\n",
    "dubai_total_4d = cost_of_trip(flight_cost=370, hotel_rate=15, rental_rate=80, duration=4)\n",
    "mumbai_total_4d = cost_of_trip(flight_cost=450, hotel_rate=10, rental_rate=70, duration=4)\n",
    "\n",
    "trip_prices_4d = [paris_total_4d, london_total_4d, dubai_total_4d, mumbai_total_4d]\n",
    "\n",
    "cheapest_location(trip_prices_4d, duration=4)\n",
    "\n",
    "# duration = 10\n",
    "paris_total_10d = cost_of_trip(flight_cost=200, hotel_rate=20, rental_rate=200, duration=10)\n",
    "london_total_10d = cost_of_trip(flight_cost=250, hotel_rate=30, rental_rate=120, duration=10)\n",
    "dubai_total_10d = cost_of_trip(flight_cost=370, hotel_rate=15, rental_rate=80, duration=10)\n",
    "mumbai_total_10d = cost_of_trip(flight_cost=450, hotel_rate=10, rental_rate=70, duration=10)\n",
    "\n",
    "trip_prices_10d = [paris_total_10d, london_total_10d, dubai_total_10d, mumbai_total_10d]\n",
    "\n",
    "cheapest_location(trip_prices_10d, duration=10)\n",
    "\n",
    "# duration = 14\n",
    "paris_total_14d = cost_of_trip(flight_cost=200, hotel_rate=20, rental_rate=200, duration=14)\n",
    "london_total_14d = cost_of_trip(flight_cost=250, hotel_rate=30, rental_rate=120, duration=14)\n",
    "dubai_total_14d = cost_of_trip(flight_cost=370, hotel_rate=15, rental_rate=80, duration=14)\n",
    "mumbai_total_14d = cost_of_trip(flight_cost=450, hotel_rate=10, rental_rate=70, duration=14)\n",
    "\n",
    "trip_prices_14d = [paris_total_14d, london_total_14d, dubai_total_14d, mumbai_total_14d]\n",
    "\n",
    "cheapest_location(trip_prices_14d, duration=14)\n",
    "\n"
   ]
  },
  {
   "cell_type": "code",
   "execution_count": 201,
   "id": "63021ea0",
   "metadata": {},
   "outputs": [
    {
     "name": "stdout",
     "output_type": "stream",
     "text": [
      "Given your budget of $1000, the longest vacation will be at Mumbai for 27 days, compared to...\n",
      "Paris for 14 days\n",
      "London for 14 days\n",
      "or Dubai for 21 days.\n",
      " \n",
      "Given your budget of $1000, the shortest vacation will be at Paris for 14 days, compared to...\n",
      "London for 14 days,\n",
      "Dubai for 21 days,\n",
      "or Mumbai for 27 days.\n",
      " \n"
     ]
    }
   ],
   "source": [
    "# 3. If your total budget for the trip is $1000...\n",
    "#           - Which city should you visit to maximize the duration of your trip? \n",
    "#           - Which city should you visit if you want to minimize the duration?\n",
    "\n",
    "\n",
    "\n",
    "def budget_trip(flight_cost, hotel_rate, rental_rate, budget):\n",
    "    \"\"\"\n",
    "    If you have a budget, this will calculate the duration of your trip w/in the given budget.  \n",
    "    \"\"\"\n",
    "    current_cost = flight_cost\n",
    "    duration = 0 \n",
    "    while current_cost <= budget: \n",
    "        if duration % 7 == 0: \n",
    "            current_cost += rental_rate\n",
    "        current_cost += hotel_rate\n",
    "        duration += 1\n",
    "    duration -= 1\n",
    "    return duration\n",
    "\n",
    "\n",
    "def max_vaca_duration(trip_duration_list, budget): \n",
    "    max_duration = trip_duration_list[0]\n",
    "    for place_duration in trip_duration_list: \n",
    "        if max_duration < place_duration:\n",
    "            max_duration = place_duration\n",
    "            \n",
    "    if max_duration == trip_duration_list[0]:\n",
    "        print(f\"Given your budget of ${budget}, the longest vacation will be at Paris for {trip_duration_list[0]} days, compared to...\")\n",
    "        print(f\"London for {trip_duration_list[1]} days,\")\n",
    "        print(f\"Dubai for {trip_duration_list[2]} days,\")\n",
    "        print(f\"or Mumbai for {trip_duration_list[3]} days.\")\n",
    "        print(\" \")\n",
    "    elif max_duration == trip_duration_list[1]:\n",
    "        print(f\"Given your budget of ${budget}, the longest vacation will be at London for {trip_duration_list[1]} days, compared to... \")\n",
    "        print(f\"paris for {trip_duration_list[0]} days,\")\n",
    "        print(f\"Dubai for {trip_duration_list[2]} days,\")\n",
    "        print(f\"or Mumbai for {trip_duration_list[3]} days.\")\n",
    "        print(\" \")\n",
    "    elif max_duration == trip_duration_list[2]:\n",
    "        print(f\"Given your budget of ${budget}, the longest vacation will be at Dubai for {trip_duration_list[2]} days, compared to...\")\n",
    "        print(f\"Paris for {trip_duration_list[0]} days,\")\n",
    "        print(f\"London for {trip_duration_list[1]} days,\")\n",
    "        print(f\"or Mumbai for {trip_duration_list[3]} days.\")\n",
    "        print(\" \")\n",
    "    elif max_duration == trip_duration_list[3]:\n",
    "        print(f\"Given your budget of ${budget}, the longest vacation will be at Mumbai for {trip_duration_list[3]} days, compared to...\")\n",
    "        print(f\"Paris for {trip_duration_list[0]} days\")\n",
    "        print(f\"London for {trip_duration_list[1]} days\")\n",
    "        print(f\"or Dubai for {trip_duration_list[2]} days.\")\n",
    "        print(\" \")\n",
    "\n",
    "\n",
    "def min_vaca_duration(trip_duration_list, budget): \n",
    "    min_duration = trip_duration_list[0]\n",
    "    for place_duration in trip_duration_list: \n",
    "        if min_duration > place_duration:\n",
    "            min_duration = place_duration\n",
    "            \n",
    "    if min_duration == trip_duration_list[0]:\n",
    "        print(f\"Given your budget of ${budget}, the shortest vacation will be at Paris for {trip_duration_list[0]} days, compared to...\")\n",
    "        print(f\"London for {trip_duration_list[1]} days,\")\n",
    "        print(f\"Dubai for {trip_duration_list[2]} days,\")\n",
    "        print(f\"or Mumbai for {trip_duration_list[3]} days.\")\n",
    "        print(\" \")\n",
    "    elif min_duration == trip_duration_list[1]:\n",
    "        print(f\"Given your budget of ${budget}, the shortest vacation will be at London for {trip_duration_list[1]} days, compared to... \")\n",
    "        print(f\"paris for {trip_duration_list[0]} days,\")\n",
    "        print(f\"Dubai for {trip_duration_list[2]} days,\")\n",
    "        print(f\"or Mumbai for {trip_duration_list[3]} days.\")\n",
    "        print(\" \")\n",
    "    elif min_duration == trip_duration_list[2]:\n",
    "        print(f\"Given your budget of ${budget}, the shortest vacation will be at Dubai for {trip_duration_list[2]} days, compared to...\")\n",
    "        print(f\"Paris for {trip_duration_list[0]} days,\")\n",
    "        print(f\"London for {trip_duration_list[1]} days,\")\n",
    "        print(f\"or Mumbai for {trip_duration_list[3]} days.\")\n",
    "        print(\" \")\n",
    "    elif min_duration == trip_duration_list[3]:\n",
    "        print(f\"Given your budget of ${budget}, the shortest vacation will be at Mumbai for {trip_duration_list[3]} days, compared to...\")\n",
    "        print(f\"Paris for {trip_duration_list[0]} days\")\n",
    "        print(f\"London for {trip_duration_list[1]} days\")\n",
    "        print(f\"or Dubai for {trip_duration_list[2]} days.\")\n",
    "        print(\" \")\n",
    "\n",
    "    \n",
    "paris_duration = budget_trip(flight_cost=200, hotel_rate=20, rental_rate=200, budget=1000)\n",
    "london_duration = budget_trip(flight_cost=250, hotel_rate=30, rental_rate=120, budget=1000)\n",
    "dubai_duration = budget_trip(flight_cost=370, hotel_rate=15, rental_rate=80, budget=1000)\n",
    "mumbai_duration = budget_trip(flight_cost=450, hotel_rate=10, rental_rate=70, budget=1000)\n",
    "\n",
    "trip_duration_list = [paris_duration, london_duration, dubai_duration, mumbai_duration]\n",
    "\n",
    "max_vaca_duration(trip_duration_list, budget=1000)\n",
    "min_vaca_duration(trip_duration_list, budget=1000)"
   ]
  },
  {
   "cell_type": "code",
   "execution_count": 202,
   "id": "ddd16b5b",
   "metadata": {},
   "outputs": [
    {
     "name": "stdout",
     "output_type": "stream",
     "text": [
      "Given your budget of $600, the longest vacation will be at Paris for 7 days, compared to...\n",
      "London for 7 days,\n",
      "Dubai for 7 days,\n",
      "or Mumbai for 7 days.\n",
      " \n",
      "Given your budget of $2000, the longest vacation will be at Mumbai for 77 days, compared to...\n",
      "Paris for 35 days\n",
      "London for 35 days\n",
      "or Dubai for 60 days.\n",
      " \n",
      "Given your budget of $1500, the longest vacation will be at Mumbai for 49 days, compared to...\n",
      "Paris for 25 days\n",
      "London for 25 days\n",
      "or Dubai for 42 days.\n",
      " \n"
     ]
    }
   ],
   "source": [
    "# 4. How does the answer to the previous question change if your budget is...\n",
    "#           - $600? \n",
    "#           - $2000 \n",
    "#           - $1500?\n",
    "# (NOTE: i am only gonna do `max_vaca_duration()` to find the longest duration for a given budget.)\n",
    "\n",
    "\n",
    "# budget = 600\n",
    "paris_duration_600 = budget_trip(flight_cost=200, hotel_rate=20, rental_rate=200, budget=600)\n",
    "london_duration_600 = budget_trip(flight_cost=250, hotel_rate=30, rental_rate=120, budget=600)\n",
    "dubai_duration_600 = budget_trip(flight_cost=370, hotel_rate=15, rental_rate=80, budget=600)\n",
    "mumbai_duration_600 = budget_trip(flight_cost=450, hotel_rate=10, rental_rate=70, budget=600)\n",
    "\n",
    "trip_duration_list_600 = [paris_duration_600, london_duration_600, dubai_duration_600, mumbai_duration_600]\n",
    "\n",
    "max_vaca_duration(trip_duration_list_600, budget=600)\n",
    "\n",
    "\n",
    "# budget = 2000\n",
    "paris_duration_2000 = budget_trip(flight_cost=200, hotel_rate=20, rental_rate=200, budget=2000)\n",
    "london_duration_2000 = budget_trip(flight_cost=250, hotel_rate=30, rental_rate=120, budget=2000)\n",
    "dubai_duration_2000 = budget_trip(flight_cost=370, hotel_rate=15, rental_rate=80, budget=2000)\n",
    "mumbai_duration_2000 = budget_trip(flight_cost=450, hotel_rate=10, rental_rate=70, budget=2000)\n",
    "\n",
    "trip_duration_list_2000 = [paris_duration_2000, london_duration_2000, dubai_duration_2000, mumbai_duration_2000]\n",
    "\n",
    "max_vaca_duration(trip_duration_list_2000, budget=2000)\n",
    "\n",
    "\n",
    "# budget = 1500\n",
    "paris_duration_1500 = budget_trip(flight_cost=200, hotel_rate=20, rental_rate=200, budget=1500)\n",
    "london_duration_1500 = budget_trip(flight_cost=250, hotel_rate=30, rental_rate=120, budget=1500)\n",
    "dubai_duration_1500 = budget_trip(flight_cost=370, hotel_rate=15, rental_rate=80, budget=1500)\n",
    "mumbai_duration_1500 = budget_trip(flight_cost=450, hotel_rate=10, rental_rate=70, budget=1500)\n",
    "\n",
    "trip_duration_list_1500 = [paris_duration_1500, london_duration_1500, dubai_duration_1500, mumbai_duration_1500]\n",
    "\n",
    "max_vaca_duration(trip_duration_list_1500, budget=1500)\n"
   ]
  }
 ],
 "metadata": {
  "kernelspec": {
   "display_name": "Python 3",
   "language": "python",
   "name": "python3"
  },
  "language_info": {
   "codemirror_mode": {
    "name": "ipython",
    "version": 3
   },
   "file_extension": ".py",
   "mimetype": "text/x-python",
   "name": "python",
   "nbconvert_exporter": "python",
   "pygments_lexer": "ipython3",
   "version": "3.8.8"
  }
 },
 "nbformat": 4,
 "nbformat_minor": 5
}
