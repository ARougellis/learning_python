{
 "cells": [
  {
   "cell_type": "markdown",
   "id": "5942654a",
   "metadata": {},
   "source": [
    "# NUMPY"
   ]
  },
  {
   "cell_type": "markdown",
   "id": "b64d08a0",
   "metadata": {},
   "source": [
    "## I. Numerical Computing with Numpy\n",
    "\n",
    "The \"*data*\" in *Data Analytics* is usually numerical data (i.e. stock prices, sales figures, sensor measurements, sports scores, database tables, etc). The [Numpy](https://numpy.org/) library proides data structures, functions, and other tools for numerical computing in Python. \n",
    "\n",
    "### i. Working with Numberical Data\n",
    "\n",
    "Let's see an example...\n",
    "> Suppose we want to use climate data like the temperature, rainfall, and humidity to determine if a region is well suited for growing apples. A simple approach for doing this would be to formulate the relationship between the annual yield of apples (tons per hectare) and the climatic conditions like the average temperature (in degrees Fahrenheit), rainfall (in millimeters) & average relative humidity (in percentage) as a linear equation.\n",
    ">\n",
    "> `yield_of_apples = w1 * temperature + w2 * rainfall + w3 * humidity`\n",
    "\n",
    "NOTE: This equation is an approximation since the actual relationship may not necessarily be linear, and there may be other factors involved. But a simple linear model like this often works well in practice.\n",
    "\n",
    "Given some climate data for a region, we can now predict the yield of apples. Here's some sample data:\n",
    "\n",
    "| Region | Temp. (F) | Rainfall (mm) | Humidity (%) |\n",
    "|--------|------------|-----------------|----------------|\n",
    "| Kanto | 73 | 67 | 43 |\n",
    "| Johto | 91 | 88 | 64 |\n",
    "| Hoenn | 87 | 134 | 58 |\n",
    "| Sinnoh | 102 | 43 | 37 |\n",
    "| Unova | 69 | 96 | 70 |\n",
    "\n",
    "\n",
    "We can find out the yeild of appples in the basic way....\n"
   ]
  },
  {
   "cell_type": "code",
   "execution_count": 41,
   "id": "03b8fd65",
   "metadata": {},
   "outputs": [
    {
     "name": "stdout",
     "output_type": "stream",
     "text": [
      "The expected yield of apples in the Kanto Region is 57\n"
     ]
    }
   ],
   "source": [
    "# We can simply apply values to weights such as... \n",
    "\n",
    "w1, w2, w3 = 0.3, 0.2, 0.5\n",
    "\n",
    "# Then we can define some variables to record climate data for a region\n",
    "\n",
    "kanto_temp = 73\n",
    "kanto_rainfall = 67\n",
    "kanto_humid = 43\n",
    "\n",
    "# Then we calculate the yeild fo apples using the linear equation...\n",
    "\n",
    "kanto_apple_yield = w1 * kanto_temp + w2 * kanto_rainfall + w3 * kanto_humid\n",
    "print(f\"The expected yield of apples in the Kanto Region is {round(kanto_apple_yield)}\")"
   ]
  },
  {
   "cell_type": "markdown",
   "id": "c1a69942",
   "metadata": {},
   "source": [
    "To **simplify** this procedure, we can represent the data from each region in _vectors_ (aka list of numbers). \n",
    "\n",
    "Otherwise, there would be far too many varibles to be dealing with. In the running example, we took what would be $18$ variables and turned that into $6$ vectors. "
   ]
  },
  {
   "cell_type": "code",
   "execution_count": 42,
   "id": "5ad0f592",
   "metadata": {},
   "outputs": [],
   "source": [
    "kanto = [73, 67, 43]\n",
    "johto = [91, 88, 64]\n",
    "hoenn = [87, 134, 58]\n",
    "sinnoh = [102, 43, 37]\n",
    "unova = [69, 96, 70]\n",
    "\n",
    "weights = [w1, w2, w3]"
   ]
  },
  {
   "cell_type": "markdown",
   "id": "0738d4f2",
   "metadata": {},
   "source": [
    "We can now write a function `crop_yield` to calcuate the yield of apples (or any other crop) given the climate data and the respective weights."
   ]
  },
  {
   "cell_type": "code",
   "execution_count": 43,
   "id": "fa68d2ec",
   "metadata": {},
   "outputs": [
    {
     "name": "stdout",
     "output_type": "stream",
     "text": [
      "The region of Unova is expected to yield 75 crops. \n"
     ]
    }
   ],
   "source": [
    "def crop_yeild(region, weights): \n",
    "    result = 0\n",
    "    for r, w in zip(region, weights): \n",
    "        result += r*w\n",
    "    return result\n",
    "\n",
    "print(f\"The region of Unova is expected to yield {round(crop_yeild(unova, weights))} crops. \")"
   ]
  },
  {
   "cell_type": "code",
   "execution_count": 44,
   "id": "f10c4b61",
   "metadata": {},
   "outputs": [
    {
     "name": "stdout",
     "output_type": "stream",
     "text": [
      "[(1, 'a'), (2, 'b'), (3, 'c')]\n",
      " \n",
      "1 a a\n",
      "2 b bb\n",
      "3 c ccc\n"
     ]
    }
   ],
   "source": [
    "# playing around with the `zip()` function. \n",
    "\n",
    "numbers = [1, 2, 3]\n",
    "letters = ['a', 'b', 'c']\n",
    "zipped = zip(numbers, letters)\n",
    "\n",
    "print(list(zipped))\n",
    "\n",
    "print(\" \")\n",
    "\n",
    "for n, l in zip(numbers, letters): \n",
    "    print(n, l, n*l)"
   ]
  },
  {
   "cell_type": "markdown",
   "id": "708354dc",
   "metadata": {},
   "source": [
    "### ii. Transitioning from Python lists to Numpy arrays\n",
    "\n",
    "In the previous `crop_yeild()` fct, the calculation that was happening within was a _dot product_. \n",
    "\n",
    "The Numpy library provides a built-in function to compute the dot product of two vectors. So, let's convert the lists into Numpy arrays...\n"
   ]
  },
  {
   "cell_type": "code",
   "execution_count": 2,
   "id": "ffe5d4f4",
   "metadata": {},
   "outputs": [],
   "source": [
    "import numpy as np"
   ]
  },
  {
   "cell_type": "code",
   "execution_count": 46,
   "id": "49985b6e",
   "metadata": {},
   "outputs": [
    {
     "name": "stdout",
     "output_type": "stream",
     "text": [
      "On average, the temperature in Sinnoh is 102 F\n"
     ]
    }
   ],
   "source": [
    "kanto = np.array([73, 67, 43])\n",
    "johto = np.array([91, 88, 64])\n",
    "hoenn = np.array([87, 134, 58])\n",
    "sinnoh = np.array([102, 43, 37])\n",
    "unova = np.array([69, 96, 70])\n",
    "\n",
    "weights = np.array([w1, w2, w3])\n",
    "\n",
    "# **NOTE**\n",
    "# Just like lists, numpy arrays also supports the indexing notations\n",
    "print(f\"On average, the temperature in Sinnoh is {sinnoh[0]} F\")"
   ]
  },
  {
   "cell_type": "markdown",
   "id": "73d0ac06",
   "metadata": {},
   "source": [
    "### iii. Operating on Numpy arrays\n",
    "\n",
    "We can now summarize the whole `crop_yield` fct into one line...\n"
   ]
  },
  {
   "cell_type": "code",
   "execution_count": 47,
   "id": "ba72ea60",
   "metadata": {},
   "outputs": [
    {
     "name": "stdout",
     "output_type": "stream",
     "text": [
      "56.8\n",
      "56.8\n"
     ]
    }
   ],
   "source": [
    "kanto_crop_yield = np.dot(kanto, weights)\n",
    "print(kanto_crop_yield)\n",
    "\n",
    "# is equivalent to \n",
    "\n",
    "kanto_crop_yield_2 = (kanto * weights).sum()\n",
    "print(kanto_crop_yield_2)"
   ]
  },
  {
   "cell_type": "code",
   "execution_count": 48,
   "id": "8c9199f2",
   "metadata": {},
   "outputs": [
    {
     "name": "stdout",
     "output_type": "stream",
     "text": [
      "[0.3 0.2 0.5]\n",
      " \n",
      "1.0\n"
     ]
    }
   ],
   "source": [
    "# you can also summarize all elements w/in a vector (as seen above)\n",
    "\n",
    "print(weights)\n",
    "print(\" \")\n",
    "\n",
    "print(weights.sum())\n"
   ]
  },
  {
   "cell_type": "markdown",
   "id": "8cab8d75",
   "metadata": {},
   "source": [
    "### iv. Benefits of using Numpy\n",
    "\n",
    "Numpy arrays offer the following benefits over Python lists for operating on numerical data:\n",
    "\n",
    "- **Ease of use**: You can write small, concise, and intuitive mathematical expressions like `np.dot(kanto, weights)` or `(kanto * weights).sum()` rather than using loops & custom functions like `crop_yield`.\n",
    "- **Performance**: Numpy operations and functions are implemented internally in C++, which makes them much faster than using Python statements & loops that are interpreted at runtime\n",
    "\n",
    "Here's a comparison of dot products performed using Python loops vs. Numpy arrays on two vectors with a million elements each."
   ]
  },
  {
   "cell_type": "code",
   "execution_count": 49,
   "id": "8163f2e7",
   "metadata": {},
   "outputs": [],
   "source": [
    "# Python List\n",
    "py_list_1 = list(range(1000000))\n",
    "py_list_2 = list(range(1000000, 2000000))\n",
    "\n",
    "# Numpy Array\n",
    "np_arr_1 = np.array(py_list_1)\n",
    "np_arr_2 = np.array(py_list_2)"
   ]
  },
  {
   "cell_type": "code",
   "execution_count": 50,
   "id": "a8a6faac",
   "metadata": {},
   "outputs": [
    {
     "name": "stdout",
     "output_type": "stream",
     "text": [
      "833332333333500000\n",
      "CPU times: user 238 ms, sys: 2.52 ms, total: 241 ms\n",
      "Wall time: 265 ms\n"
     ]
    }
   ],
   "source": [
    "%%time\n",
    "# Timing dot product w/ python lists\n",
    "result = 0\n",
    "for x, y in zip(py_list_1, py_list_2):\n",
    "    result += x*y\n",
    "print(result)"
   ]
  },
  {
   "cell_type": "code",
   "execution_count": 51,
   "id": "d60931e1",
   "metadata": {},
   "outputs": [
    {
     "name": "stdout",
     "output_type": "stream",
     "text": [
      "833332333333500000\n",
      "CPU times: user 2.84 ms, sys: 2 ms, total: 4.84 ms\n",
      "Wall time: 7.24 ms\n"
     ]
    }
   ],
   "source": [
    "%%time\n",
    "# Timing dot product w/ numpy arrays\n",
    "print(np.dot(np_arr_1, np_arr_2))"
   ]
  },
  {
   "cell_type": "markdown",
   "id": "a3f12d2f",
   "metadata": {},
   "source": [
    "Therefore, as shown, numpy arrays are MUCH faster to calculate with. Which becomes incredibly useful with larger data sets. \n",
    "\n",
    "And before the example above, we showed which much easier it is to use, reducing the number of variables significantly. "
   ]
  },
  {
   "cell_type": "markdown",
   "id": "7c6265ca",
   "metadata": {},
   "source": [
    "## II. Multi-Dimensional Numpy Arrays \n",
    "\n",
    "To illustrate the use of multi-dim'l array, I will now represent the climate data for all the regions using a single 2-dimensional Numpy array (aka a 2x2 matrix)..."
   ]
  },
  {
   "cell_type": "code",
   "execution_count": 52,
   "id": "0c38661a",
   "metadata": {},
   "outputs": [
    {
     "name": "stdout",
     "output_type": "stream",
     "text": [
      "(3,)\n"
     ]
    },
    {
     "data": {
      "text/plain": [
       "dtype('float64')"
      ]
     },
     "execution_count": 52,
     "metadata": {},
     "output_type": "execute_result"
    }
   ],
   "source": [
    "# 1-dim'l array\n",
    "\n",
    "weights = np.array([0.3, 0.2, 0.5])\n",
    "\n",
    "print(weights.shape)\n",
    "weights.dtype"
   ]
  },
  {
   "cell_type": "code",
   "execution_count": 53,
   "id": "136424b8",
   "metadata": {},
   "outputs": [
    {
     "name": "stdout",
     "output_type": "stream",
     "text": [
      "(5, 3)\n"
     ]
    },
    {
     "data": {
      "text/plain": [
       "dtype('int64')"
      ]
     },
     "execution_count": 53,
     "metadata": {},
     "output_type": "execute_result"
    }
   ],
   "source": [
    "# 2-dim'l array aka a matrix\n",
    "\n",
    "climate_data = np.array([[73, 67, 43],\n",
    "                        [91, 88, 64], \n",
    "                        [87, 134, 58], \n",
    "                        [102, 43, 37], \n",
    "                        [69, 96, 70]])\n",
    "\n",
    "print(climate_data.shape)\n",
    "climate_data.dtype"
   ]
  },
  {
   "cell_type": "code",
   "execution_count": 54,
   "id": "de134835",
   "metadata": {},
   "outputs": [
    {
     "name": "stdout",
     "output_type": "stream",
     "text": [
      "(2, 2, 3)\n"
     ]
    },
    {
     "data": {
      "text/plain": [
       "dtype('float64')"
      ]
     },
     "execution_count": 54,
     "metadata": {},
     "output_type": "execute_result"
    }
   ],
   "source": [
    "# 3-dim's array/matrix\n",
    "\n",
    "arr3 = np.array([\n",
    "    [[11, 12, 13], \n",
    "     [13, 14, 15]], \n",
    "    [[11.5, 12.5, 13.5],\n",
    "     [13.5, 14.5, 15.5]] ])\n",
    "\n",
    "print(arr3.shape)\n",
    "arr3.dtype"
   ]
  },
  {
   "cell_type": "markdown",
   "id": "657abc06",
   "metadata": {},
   "source": [
    "**Now** we can predict the yeild of crops in al the regions at once using the numpy arrays/matrices..."
   ]
  },
  {
   "cell_type": "code",
   "execution_count": 55,
   "id": "786dfaf8",
   "metadata": {},
   "outputs": [
    {
     "name": "stdout",
     "output_type": "stream",
     "text": [
      "[56.8 76.9 81.9 57.7 74.9]\n"
     ]
    }
   ],
   "source": [
    "yield_of_crops = np.matmul(climate_data, weights)\n",
    "print(yield_of_crops)"
   ]
  },
  {
   "cell_type": "markdown",
   "id": "e7c684c6",
   "metadata": {},
   "source": [
    "**Or** you can use the `@` operator which performs matrix multplication..."
   ]
  },
  {
   "cell_type": "code",
   "execution_count": 56,
   "id": "783ba184",
   "metadata": {},
   "outputs": [
    {
     "name": "stdout",
     "output_type": "stream",
     "text": [
      "[56.8 76.9 81.9 57.7 74.9]\n"
     ]
    }
   ],
   "source": [
    "yield_of_crops_2 = climate_data @ weights\n",
    "print(yield_of_crops_2)"
   ]
  },
  {
   "cell_type": "markdown",
   "id": "632cb87d",
   "metadata": {},
   "source": [
    "### i. Working with CSV data\n",
    "\n",
    "Numpy also provides helper functions reading from & writing to files. With this we can download a file called `climate.txt`, which contains $10,000$ climate measurements (temperature, rainfall & humidity) in the following format:\n",
    "\n",
    "```\n",
    "temperature,rainfall,humidity\n",
    "25.00,76.00,99.00\n",
    "39.00,65.00,70.00\n",
    "59.00,45.00,77.00\n",
    "84.00,63.00,38.00\n",
    "66.00,50.00,52.00\n",
    "41.00,94.00,77.00\n",
    "91.00,57.00,96.00\n",
    "49.00,96.00,99.00\n",
    "67.00,20.00,28.00\n",
    "...\n",
    "```\n",
    "\n",
    "This format of storing data is known as *comma-separated values* or **CSV**.\n",
    "\n",
    "**CSVs**: A comma-separated values (CSV) file is a delimited text file that uses a comma to separate values. Each line of the file is a data record. Each record consists of one or more fields, separated by commas. A CSV file typically stores tabular data (numbers and text) in plain text, in which case each line will have the same number of fields. (Wikipedia)\n",
    "\n",
    "To read this file into a numpy array, we can use the `genfromtxt` function. We can get this from the `urllib` module which offers most of the help needed for anything url related\n"
   ]
  },
  {
   "cell_type": "code",
   "execution_count": 3,
   "id": "f0aaf9b5",
   "metadata": {},
   "outputs": [
    {
     "data": {
      "text/plain": [
       "('climate.txt', <http.client.HTTPMessage at 0x7f9768909d30>)"
      ]
     },
     "execution_count": 3,
     "metadata": {},
     "output_type": "execute_result"
    }
   ],
   "source": [
    "import urllib.request\n",
    "\n",
    "urllib.request.urlretrieve(\n",
    "    'https://hub.jovian.ml/wp-content/uploads/2020/08/climate.csv', \n",
    "    'climate.txt')"
   ]
  },
  {
   "cell_type": "code",
   "execution_count": 58,
   "id": "63979220",
   "metadata": {},
   "outputs": [
    {
     "name": "stdout",
     "output_type": "stream",
     "text": [
      "(10000, 3)\n"
     ]
    },
    {
     "data": {
      "text/plain": [
       "array([[25., 76., 99.],\n",
       "       [39., 65., 70.],\n",
       "       [59., 45., 77.],\n",
       "       ...,\n",
       "       [99., 62., 58.],\n",
       "       [70., 71., 91.],\n",
       "       [92., 39., 76.]])"
      ]
     },
     "execution_count": 58,
     "metadata": {},
     "output_type": "execute_result"
    }
   ],
   "source": [
    "# Now to covert this csv into a numpy array...\n",
    "\n",
    "climate_data = np.genfromtxt('climate.txt', delimiter = ',', skip_header=1)\n",
    "\n",
    "print(climate_data.shape)\n",
    "climate_data"
   ]
  },
  {
   "cell_type": "code",
   "execution_count": 59,
   "id": "d504a874",
   "metadata": {},
   "outputs": [
    {
     "name": "stdout",
     "output_type": "stream",
     "text": [
      "(10000,)\n"
     ]
    },
    {
     "data": {
      "text/plain": [
       "array([72.2, 59.7, 65.2, ..., 71.1, 80.7, 73.4])"
      ]
     },
     "execution_count": 59,
     "metadata": {},
     "output_type": "execute_result"
    }
   ],
   "source": [
    "# NOW lets caclulate the yield of crops for this huge region data set...\n",
    "\n",
    "yields = climate_data @ weights \n",
    "\n",
    "print(yields.shape)\n",
    "        # we can see a vector here \n",
    "yields"
   ]
  },
  {
   "cell_type": "code",
   "execution_count": 60,
   "id": "2fe6ef91",
   "metadata": {},
   "outputs": [
    {
     "name": "stdout",
     "output_type": "stream",
     "text": [
      "(10000, 4)\n"
     ]
    },
    {
     "data": {
      "text/plain": [
       "array([[25. , 76. , 99. , 72.2],\n",
       "       [39. , 65. , 70. , 59.7],\n",
       "       [59. , 45. , 77. , 65.2],\n",
       "       ...,\n",
       "       [99. , 62. , 58. , 71.1],\n",
       "       [70. , 71. , 91. , 80.7],\n",
       "       [92. , 39. , 76. , 73.4]])"
      ]
     },
     "execution_count": 60,
     "metadata": {},
     "output_type": "execute_result"
    }
   ],
   "source": [
    "# Let's try to add `yields` to `climate_data` as a 4th column using `np.concatenate`...\n",
    "\n",
    "climate_results = np.concatenate((climate_data, yields.reshape(10000, 1)), axis=1)\n",
    "\n",
    "print(climate_results.shape)\n",
    "climate_results"
   ]
  },
  {
   "cell_type": "markdown",
   "id": "e0b78619",
   "metadata": {},
   "source": [
    "A few notes here...\n",
    "\n",
    "- Since we wish to add new columns, we pass the argument `axis=1` to `np.concatenate`. The `axis` argument specifies the dimension for concatenation.\n",
    "- The arrays should have the same number of dimensions, and the same length along each except the dimension used for concatenation. We use the `np.reshape` function to change the shape of `yields` from $(10000,)$ to $(10000,1)$.\n",
    "\n",
    "Below, I play around with `np.concatenate` and `.rehape()`"
   ]
  },
  {
   "cell_type": "code",
   "execution_count": 61,
   "id": "d1f2602a",
   "metadata": {},
   "outputs": [
    {
     "name": "stdout",
     "output_type": "stream",
     "text": [
      "[['1' '2' '3' 'a']\n",
      " ['4' '5' '6' 'b']\n",
      " ['7' '8' '9' 'c']]\n",
      " \n",
      "(3, 4)\n",
      " \n",
      "[['1' '2' '3']\n",
      " ['4' '5' '6']\n",
      " ['7' '8' '9']\n",
      " ['a' 'b' 'c']]\n",
      " \n",
      "(4, 3)\n"
     ]
    }
   ],
   "source": [
    "# playing around w/ `np.concatenate` and `.rehape()`\n",
    "\n",
    "matrix1 = np.array([[1, 2, 3], \n",
    "                   [4, 5, 6], \n",
    "                   [7, 8, 9]])\n",
    "matrix2 = np.array([['a', 'b', 'c']])\n",
    "\n",
    "# adding an array to a data set as a column\n",
    "print(np.concatenate((matrix1, matrix2.reshape(3, 1)), axis=1))\n",
    "print(' ')\n",
    "print(np.concatenate((matrix1, matrix2.reshape(3, 1)), axis=1).shape )\n",
    "\n",
    "print(' ')\n",
    "\n",
    "# adding an array to a data set as a row\n",
    "print(np.concatenate((matrix1, matrix2.reshape(1, 3)), axis=0))\n",
    "print(' ')\n",
    "print(np.concatenate((matrix1, matrix2.reshape(1, 3)), axis=0).shape )"
   ]
  },
  {
   "cell_type": "markdown",
   "id": "52ae58b4",
   "metadata": {},
   "source": [
    "After doing soem data manipulation, lets save what we did..."
   ]
  },
  {
   "cell_type": "code",
   "execution_count": 62,
   "id": "d980c90a",
   "metadata": {},
   "outputs": [],
   "source": [
    "np.savetxt('climate_results.txt', \n",
    "          climate_results, \n",
    "          fmt = '%.2f',    # formating : floating points are at two decimal places. \n",
    "          header = 'temperature,rainfall,humidity,yeild_apples', \n",
    "          comments = '')"
   ]
  },
  {
   "cell_type": "markdown",
   "id": "d078099e",
   "metadata": {},
   "source": [
    "Numpy provides hundreds of functions for performing operations on arrays. Here are some commonly used functions:\n",
    "\n",
    "- Mathematics: np.sum, np.exp, np.round, arithemtic operators\n",
    "- Array manipulation: np.reshape, np.stack, np.concatenate, np.split\n",
    "- Linear Algebra: np.matmul, np.dot, np.transpose, np.eigvals\n",
    "- Statistics: np.mean, np.median, np.std, np.max\n",
    "\n",
    "> How to find the function you need? The easiest way to find the right function for a specific operation or use-case is to do a web search. For instance, searching for *\"How to join numpy arrays\"* leads to this tutorial on array concatenation.\n",
    "\n",
    "You can find a full list of array functions [here](https://numpy.org/doc/stable/reference/routines.html)"
   ]
  },
  {
   "cell_type": "code",
   "execution_count": 4,
   "id": "dbc835a7",
   "metadata": {},
   "outputs": [],
   "source": [
    "from numpy import linalg as la"
   ]
  },
  {
   "cell_type": "code",
   "execution_count": 64,
   "id": "0be14043",
   "metadata": {},
   "outputs": [
    {
     "name": "stdout",
     "output_type": "stream",
     "text": [
      "[[2.71828183e+00 7.38905610e+00 2.00855369e+01]\n",
      " [5.45981500e+01 1.48413159e+02 4.03428793e+02]\n",
      " [1.09663316e+03 2.98095799e+03 8.10308393e+03]]\n",
      "\n",
      "[[[ 1  2  3]\n",
      "  [ 4  5  6]\n",
      "  [ 7  8  9]]\n",
      "\n",
      " [[10 11 12]\n",
      "  [13 14 15]\n",
      "  [16 17 18]]]\n",
      "(2, 3, 3)\n",
      "\n",
      "[[[ 1 10]\n",
      "  [ 2 11]\n",
      "  [ 3 12]]\n",
      "\n",
      " [[ 4 13]\n",
      "  [ 5 14]\n",
      "  [ 6 15]]\n",
      "\n",
      " [[ 7 16]\n",
      "  [ 8 17]\n",
      "  [ 9 18]]]\n",
      "(3, 3, 2)\n"
     ]
    }
   ],
   "source": [
    "matrix = np.array([[1, 2, 3], \n",
    "                 [4, 5, 6], \n",
    "                 [7, 8, 9]])\n",
    "# vector = np.array([10, 11, 12])\n",
    "v_matrix = np.array([[10, 11, 12], \n",
    "                    [13, 14, 15], \n",
    "                    [16, 17, 18]])\n",
    "\n",
    "arry1 = np.array([1, 2, 3])\n",
    "arry2 = np.array([4, 5, 6])\n",
    "\n",
    "# take the ___exponential___ of every element within the matrix\n",
    "print(np.exp(matrix))\n",
    "print(\"\")\n",
    "\n",
    "\n",
    "# use `np.stack` to ___stack___ matricies of same size together along an axis that doesnt exist \n",
    "#       (i.e. where np.concatenate adds array as rows or columns, np.stack adds to for example 3rd-dim/3rd axis)\n",
    "print(np.stack((matrix, v_matrix)))\n",
    "print(np.stack((matrix, v_matrix)).shape)\n",
    "print(\"\")\n",
    "print(np.stack((matrix, v_matrix), axis=-1))\n",
    "print(np.stack((matrix, v_matrix), axis=-1).shape)\n"
   ]
  },
  {
   "cell_type": "markdown",
   "id": "d8891af3",
   "metadata": {},
   "source": [
    "### ii. Arithmetic operations, broadcasting and comparison\n",
    "\n",
    "#### Arithmetic operations\n",
    "\n",
    "Numpy arrays support arithmetic operators like `+`, `-`, `*`, etc. You can perform an arithmetic operation with a single number (also called scalar) or with another array of the same shape. Operators make it easy to write mathematical expressions with multi-dimensional arrays."
   ]
  },
  {
   "cell_type": "code",
   "execution_count": 65,
   "id": "2ab46954",
   "metadata": {},
   "outputs": [
    {
     "name": "stdout",
     "output_type": "stream",
     "text": [
      "Adding a scalar (arr2+3): \n",
      "[[ 4  5  6  7]\n",
      " [ 8  9 10 11]\n",
      " [12  4  5  6]]\n",
      "\n",
      "Element-wise subtraction (arr3-arr2): \n",
      "[[10 10 10 10]\n",
      " [10 10 10 10]\n",
      " [10 10 10 10]]\n",
      " \n",
      "Division by scalar (arr2 / 2): \n",
      "[[0.5 1.  1.5 2. ]\n",
      " [2.5 3.  3.5 4. ]\n",
      " [4.5 0.5 1.  1.5]]\n",
      " \n",
      "Element-wise multiplication (arr2 * arr3): \n",
      "[[ 11  24  39  56]\n",
      " [ 75  96 119 144]\n",
      " [171  11  24  39]]\n",
      " \n",
      "Modulus with scalar (arr2 % 4): \n",
      "[[1 2 3 0]\n",
      " [1 2 3 0]\n",
      " [1 1 2 3]]\n",
      " \n"
     ]
    }
   ],
   "source": [
    "arr2 = np.array([[1, 2, 3, 4], \n",
    "                 [5, 6, 7, 8], \n",
    "                 [9, 1, 2, 3]])\n",
    "\n",
    "arr3 = np.array([[11, 12, 13, 14], \n",
    "                 [15, 16, 17, 18], \n",
    "                 [19, 11, 12, 13]])\n",
    "\n",
    "# Adding a scalar\n",
    "print('Adding a scalar (arr2+3): ')\n",
    "print(arr2 + 3)\n",
    "print('')\n",
    "\n",
    "# Element-wise subtraction\n",
    "print('Element-wise subtraction (arr3-arr2): ')\n",
    "print(arr3 - arr2)\n",
    "print(' ')\n",
    "\n",
    "# Division by scalar\n",
    "print('Division by scalar (arr2 / 2): ')\n",
    "print(arr2 / 2)\n",
    "print(' ')\n",
    "\n",
    "# Element-wise multiplication\n",
    "print('Element-wise multiplication (arr2 * arr3): ')\n",
    "print(arr2 * arr3)\n",
    "print(' ')\n",
    "\n",
    "# Modulus with scalar\n",
    "print('Modulus with scalar (arr2 % 4): ')\n",
    "print(arr2 % 4)\n",
    "print(' ')"
   ]
  },
  {
   "cell_type": "markdown",
   "id": "c041938d",
   "metadata": {},
   "source": [
    "#### Array Broadcasting\n",
    "\n",
    "Numpy arrays also support _broadcasting_, allowing arithmetic operations between two arrays with different numbers of dimensions but compatible shapes. Let's look at an example to see how it works.\n",
    "\n",
    "Given `arr2` that has a shape of $(3, 4)$ and a new array `arr4 = np.array([4, 5, 6, 7])` that has a shape of $(4, )$. We can see that the shapes are different, but bc of _broadcasting_....\n",
    "\n",
    "When the expression `arr2 + arr4` is evaluated, `arr4` (which has the shape $(4, )$) is replicated three times to match the shape $(3, 4)$ of `arr2`. Numpy performs the replication without actually creating three copies of the smaller dimension array, thus improving performance and using lower memory.\n",
    "\n",
    "Therefore, numpy turns \n",
    "> `arr4 = np.array([4, 5, 6, 7])`\n",
    "\n",
    "into\n",
    "> `arr4_rearranged = np.array([[4, 5, 6, 7], \n",
    ">                             [4, 5, 6, 7], \n",
    ">                             [4, 5, 6, 7] ])`\n",
    "\n",
    "Then it performs the operation. Let's see it in action. "
   ]
  },
  {
   "cell_type": "code",
   "execution_count": 66,
   "id": "6dc032f9",
   "metadata": {},
   "outputs": [
    {
     "name": "stdout",
     "output_type": "stream",
     "text": [
      "[[ 5  7  9 11]\n",
      " [ 9 11 13 15]\n",
      " [13  6  8 10]]\n"
     ]
    }
   ],
   "source": [
    "arr4 = np.array([4, 5, 6, 7])\n",
    "\n",
    "print(arr2 + arr4)"
   ]
  },
  {
   "cell_type": "markdown",
   "id": "9448a525",
   "metadata": {},
   "source": [
    "But, given another new array `arr5 = np.array([7, 8]) that has a shape of  (2,)`, we can see that even if numpy rearranges it to....\n",
    "> `arr5_rearranged = np.array([[7, 8], \n",
    ">                             [7, 8], \n",
    ">                             [7, 8] ])`\n",
    "\n",
    "the shape now becomes $(3, 2)$ whic still doesn tmatch the shape of `arr2` which is $(3, 4)$. \n",
    "\n",
    "(NOTE: Learn more about broadcasting [here](https://numpy.org/doc/stable/user/basics.broadcasting.html).) \n",
    "\n",
    "Therefore, numpy cannot perform this operation...."
   ]
  },
  {
   "cell_type": "code",
   "execution_count": 67,
   "id": "38e3723b",
   "metadata": {},
   "outputs": [
    {
     "ename": "ValueError",
     "evalue": "operands could not be broadcast together with shapes (3,4) (2,) ",
     "output_type": "error",
     "traceback": [
      "\u001b[0;31m---------------------------------------------------------------------------\u001b[0m",
      "\u001b[0;31mValueError\u001b[0m                                Traceback (most recent call last)",
      "\u001b[0;32m<ipython-input-67-6a0de885ef4a>\u001b[0m in \u001b[0;36m<module>\u001b[0;34m\u001b[0m\n\u001b[1;32m      1\u001b[0m \u001b[0marr5\u001b[0m \u001b[0;34m=\u001b[0m \u001b[0mnp\u001b[0m\u001b[0;34m.\u001b[0m\u001b[0marray\u001b[0m\u001b[0;34m(\u001b[0m\u001b[0;34m[\u001b[0m\u001b[0;36m7\u001b[0m\u001b[0;34m,\u001b[0m \u001b[0;36m8\u001b[0m\u001b[0;34m]\u001b[0m\u001b[0;34m)\u001b[0m\u001b[0;34m\u001b[0m\u001b[0;34m\u001b[0m\u001b[0m\n\u001b[1;32m      2\u001b[0m \u001b[0;34m\u001b[0m\u001b[0m\n\u001b[0;32m----> 3\u001b[0;31m \u001b[0mprint\u001b[0m\u001b[0;34m(\u001b[0m\u001b[0marr2\u001b[0m \u001b[0;34m+\u001b[0m \u001b[0marr5\u001b[0m\u001b[0;34m)\u001b[0m\u001b[0;34m\u001b[0m\u001b[0;34m\u001b[0m\u001b[0m\n\u001b[0m",
      "\u001b[0;31mValueError\u001b[0m: operands could not be broadcast together with shapes (3,4) (2,) "
     ]
    }
   ],
   "source": [
    "arr5 = np.array([7, 8])\n",
    "\n",
    "print(arr2 + arr5)"
   ]
  },
  {
   "cell_type": "markdown",
   "id": "452462b9",
   "metadata": {},
   "source": [
    "#### Array Comparison\n",
    "\n",
    "Numpy arrays also support comparison operations like $==$, $!=$, $>$ etc. \n",
    "\n",
    "The result is an array of booleans."
   ]
  },
  {
   "cell_type": "code",
   "execution_count": 68,
   "id": "1a528525",
   "metadata": {},
   "outputs": [
    {
     "data": {
      "text/plain": [
       "array([[False,  True,  True],\n",
       "       [False, False,  True]])"
      ]
     },
     "execution_count": 68,
     "metadata": {},
     "output_type": "execute_result"
    }
   ],
   "source": [
    "arr1 = np.array([[1, 2, 3], \n",
    "                 [3, 4, 5]])\n",
    "arr2 = np.array([[2, 2, 3], \n",
    "                 [1, 2, 5]])\n",
    "\n",
    "arr1 == arr2"
   ]
  },
  {
   "cell_type": "code",
   "execution_count": 69,
   "id": "8491197c",
   "metadata": {},
   "outputs": [
    {
     "data": {
      "text/plain": [
       "array([[ True, False, False],\n",
       "       [ True,  True, False]])"
      ]
     },
     "execution_count": 69,
     "metadata": {},
     "output_type": "execute_result"
    }
   ],
   "source": [
    "arr1 != arr2"
   ]
  },
  {
   "cell_type": "code",
   "execution_count": 70,
   "id": "26e926b5",
   "metadata": {},
   "outputs": [
    {
     "data": {
      "text/plain": [
       "array([[False,  True,  True],\n",
       "       [ True,  True,  True]])"
      ]
     },
     "execution_count": 70,
     "metadata": {},
     "output_type": "execute_result"
    }
   ],
   "source": [
    "arr1 >= arr2"
   ]
  },
  {
   "cell_type": "code",
   "execution_count": 71,
   "id": "2d8239f4",
   "metadata": {},
   "outputs": [
    {
     "data": {
      "text/plain": [
       "array([[ True, False, False],\n",
       "       [False, False, False]])"
      ]
     },
     "execution_count": 71,
     "metadata": {},
     "output_type": "execute_result"
    }
   ],
   "source": [
    "arr1 < arr2"
   ]
  },
  {
   "cell_type": "markdown",
   "id": "69ace290",
   "metadata": {},
   "source": [
    "_Array comparison_ is frequently used to count the number of equal elements in two arrays using the sum method. Remember that `True` evaluates to $1$ and `False` evaluates to $0$ when booleans are used in arithmetic operations."
   ]
  },
  {
   "cell_type": "code",
   "execution_count": 72,
   "id": "fedd01c6",
   "metadata": {},
   "outputs": [
    {
     "data": {
      "text/plain": [
       "3"
      ]
     },
     "execution_count": 72,
     "metadata": {},
     "output_type": "execute_result"
    }
   ],
   "source": [
    "(arr1 == arr2).sum()\n",
    "\n",
    "# the result is 3 therefore there are 3 elemets that are equaivalent in the same place in both matrices.  "
   ]
  },
  {
   "cell_type": "markdown",
   "id": "9e8eb8e3",
   "metadata": {},
   "source": [
    "### iii. Array indexing and slicing\n",
    "\n",
    "Numpy extends Python's list indexing notation using `[]` to multiple dimensions in an intuitive fashion. You can provide a comma-separated list of indices or ranges to select a specific element or a subarray (also called a _slice_) from a Numpy array."
   ]
  },
  {
   "cell_type": "code",
   "execution_count": 73,
   "id": "ea5d50c5",
   "metadata": {},
   "outputs": [
    {
     "data": {
      "text/plain": [
       "(3, 2, 4)"
      ]
     },
     "execution_count": 73,
     "metadata": {},
     "output_type": "execute_result"
    }
   ],
   "source": [
    "arr3 = np.array([\n",
    "    [[11, 12, 13, 14], \n",
    "     [13, 14, 15, 19]], \n",
    "    \n",
    "    [[15, 16, 17, 21], \n",
    "     [63, 92, 36, 18]], \n",
    "    \n",
    "    [[98, 32, 81, 23],      \n",
    "     [17, 18, 19.5, 43]]])\n",
    "\n",
    "arr3.shape"
   ]
  },
  {
   "cell_type": "code",
   "execution_count": 74,
   "id": "cdac8d6d",
   "metadata": {},
   "outputs": [
    {
     "data": {
      "text/plain": [
       "36.0"
      ]
     },
     "execution_count": 74,
     "metadata": {},
     "output_type": "execute_result"
    }
   ],
   "source": [
    "# Extracting a single element \n",
    "#    - second layer, \n",
    "#    - second row, \n",
    "#    - third column\n",
    "\n",
    "arr3[1, 1, 2]"
   ]
  },
  {
   "cell_type": "code",
   "execution_count": 75,
   "id": "9ad2b57e",
   "metadata": {},
   "outputs": [
    {
     "data": {
      "text/plain": [
       "array([[[15., 16.]],\n",
       "\n",
       "       [[98., 32.]]])"
      ]
     },
     "execution_count": 75,
     "metadata": {},
     "output_type": "execute_result"
    }
   ],
   "source": [
    "# Extracting a subarray using ranges...\n",
    "#    - from the second face to last face\n",
    "#    - first row up to (and not including) the second\n",
    "#    - first column up to (and not including) the third\n",
    "\n",
    "arr3[1:, 0:1, :2]"
   ]
  },
  {
   "cell_type": "code",
   "execution_count": 76,
   "id": "a5f784d1",
   "metadata": {},
   "outputs": [
    {
     "name": "stdout",
     "output_type": "stream",
     "text": [
      "arr3[1:, 1, 3] = \n",
      "                 [18. 43.]\n",
      " \n",
      "arr3[1:, 1, :3] = \n",
      "[[63.  92.  36. ]\n",
      " [17.  18.  19.5]]\n",
      " \n",
      "arr3[1, 0, 1::2] = \n",
      "                  [16. 21.]\n",
      " \n"
     ]
    }
   ],
   "source": [
    "# Mixing indices and ranges\n",
    "\n",
    "print('arr3[1:, 1, 3] = ')\n",
    "print('                ', arr3[1:, 1, 3])\n",
    "    # from the second layer to the last\n",
    "    # the second row\n",
    "    # the 4th column \n",
    "            # = array([18, 43])\n",
    "print(' ')\n",
    "\n",
    "\n",
    "print('arr3[1:, 1, :3] = ')\n",
    "print(arr3[1:, 1, :3])\n",
    "    # from the second layer to the last\n",
    "    # the second row\n",
    "    # from first column up to (but not including) the 4th column \n",
    "            # = array( [63, 92, 36], [17, 18, 19.5] )\n",
    "print(' ')\n",
    "\n",
    "print('arr3[1, 0, 1::2] = ')\n",
    "print(\"                 \", arr3[1, 0, 1::2])\n",
    "    # second layer\n",
    "    # first row\n",
    "    # starting in the second column, select that second element\n",
    "print(' ')"
   ]
  },
  {
   "cell_type": "code",
   "execution_count": 77,
   "id": "b5c22e7e",
   "metadata": {},
   "outputs": [
    {
     "name": "stdout",
     "output_type": "stream",
     "text": [
      "arr3[1] = \n",
      "[[15. 16. 17. 21.]\n",
      " [63. 92. 36. 18.]]\n",
      " \n",
      "arr3[:2, 1] = \n",
      "[[13. 14. 15. 19.]\n",
      " [63. 92. 36. 18.]]\n"
     ]
    }
   ],
   "source": [
    "# You can even index fewer parameters than the dimensions of the matrix...\n",
    "\n",
    "print('arr3[1] = ')\n",
    "print(arr3[1])\n",
    "    # will extract the whole second layer\n",
    "\n",
    "print(' ')\n",
    "\n",
    "print('arr3[:2, 1] = ')\n",
    "print(arr3[:2, 1])\n",
    "    # will extract...\n",
    "            # from first layer up to (not including) the 3rd layer\n",
    "            # second row"
   ]
  },
  {
   "cell_type": "markdown",
   "id": "4b2dda9b",
   "metadata": {},
   "source": [
    "## III. Other Methods of Creating Numpy Arrays\n",
    "\n",
    "We have seen arrays being made with...\n",
    "- `np.array( [ ] )` method : the most basic and easiest way of creating arrays. \n",
    "- `genfromtxt` function : creates arrasy using data from data file (csv in this lecture) \n",
    "\n",
    "Let's see what else we can use..."
   ]
  },
  {
   "cell_type": "code",
   "execution_count": 79,
   "id": "72c57547",
   "metadata": {},
   "outputs": [
    {
     "data": {
      "text/plain": [
       "array([[0., 0., 0., 0.],\n",
       "       [0., 0., 0., 0.],\n",
       "       [0., 0., 0., 0.]])"
      ]
     },
     "execution_count": 79,
     "metadata": {},
     "output_type": "execute_result"
    }
   ],
   "source": [
    "# Creating an array/matrix of ___all zero elements___\n",
    "\n",
    "np.zeros((3, 4))\n",
    "        # in here, we put in the dimentions of array/matrix"
   ]
  },
  {
   "cell_type": "code",
   "execution_count": 82,
   "id": "c25740e8",
   "metadata": {},
   "outputs": [
    {
     "data": {
      "text/plain": [
       "array([[[1., 1., 1.],\n",
       "        [1., 1., 1.]],\n",
       "\n",
       "       [[1., 1., 1.],\n",
       "        [1., 1., 1.]]])"
      ]
     },
     "execution_count": 82,
     "metadata": {},
     "output_type": "execute_result"
    }
   ],
   "source": [
    "# Creating an array/matrix of ___all one elements___\n",
    "\n",
    "np.ones([2, 2, 3])\n",
    "        # in here, we put in the dimentions of array/matrix"
   ]
  },
  {
   "cell_type": "code",
   "execution_count": 84,
   "id": "d426d790",
   "metadata": {},
   "outputs": [
    {
     "data": {
      "text/plain": [
       "array([[1., 0., 0., 0.],\n",
       "       [0., 1., 0., 0.],\n",
       "       [0., 0., 1., 0.],\n",
       "       [0., 0., 0., 1.]])"
      ]
     },
     "execution_count": 84,
     "metadata": {},
     "output_type": "execute_result"
    }
   ],
   "source": [
    "# Create an ___identity matrix___\n",
    "\n",
    "np.eye(4)"
   ]
  },
  {
   "cell_type": "code",
   "execution_count": 91,
   "id": "e7aa8d7c",
   "metadata": {},
   "outputs": [
    {
     "name": "stdout",
     "output_type": "stream",
     "text": [
      "[0.73350288 0.36330228 0.25147237 0.2056564  0.37803493]\n",
      " \n",
      "[[-1.08536816  0.79498509 -0.50040239 -1.47178971]\n",
      " [-0.41833284  0.97559848 -0.64406973  0.7188176 ]\n",
      " [-0.02628912  0.7635086  -0.97957703  1.66089754]]\n"
     ]
    }
   ],
   "source": [
    "# Create a vector/array with ___random values___\n",
    "\n",
    "print(np.random.rand(5))\n",
    "    # when using `np.random.rand()`, you will only get postive numbers\n",
    "\n",
    "print(\" \")\n",
    "\n",
    "print(np.random.randn(3, 4))\n",
    "    # when using `np.random.rand()`, you will get postive AND negative numbers"
   ]
  },
  {
   "cell_type": "code",
   "execution_count": 93,
   "id": "405b655f",
   "metadata": {},
   "outputs": [
    {
     "data": {
      "text/plain": [
       "array([[42, 42],\n",
       "       [42, 42],\n",
       "       [42, 42]])"
      ]
     },
     "execution_count": 93,
     "metadata": {},
     "output_type": "execute_result"
    }
   ],
   "source": [
    "# Create a matrix of any size where every elemeents is fixed...\n",
    "np.full([3, 2], 42)"
   ]
  },
  {
   "cell_type": "code",
   "execution_count": 99,
   "id": "225c4ea4",
   "metadata": {},
   "outputs": [
    {
     "name": "stdout",
     "output_type": "stream",
     "text": [
      "[10 13 16 19 22 25 28 31 34 37 40 43 46 49 52 55 58 61 64 67 70 73 76 79\n",
      " 82 85 88]\n",
      " \n",
      "[[10 12 14 16 18 20 22 24]\n",
      " [26 28 30 32 34 36 38 40]\n",
      " [42 44 46 48 50 52 54 56]\n",
      " [58 60 62 64 66 68 70 72]\n",
      " [74 76 78 80 82 84 86 88]]\n"
     ]
    }
   ],
   "source": [
    "# create a matrix with range given start/endpoints and step size if needed. \n",
    "print(np.arange(10, 90, 3))\n",
    "\n",
    "print(' ')\n",
    "\n",
    "# can also rearrange this into a matrix w/ dim's of your choosing\n",
    "print(np.arange(10, 90, 2).reshape(5, 8))"
   ]
  },
  {
   "cell_type": "code",
   "execution_count": 103,
   "id": "175baeef",
   "metadata": {},
   "outputs": [
    {
     "data": {
      "text/plain": [
       "array([[ 3.,  6.,  9.],\n",
       "       [12., 15., 18.],\n",
       "       [21., 24., 27.]])"
      ]
     },
     "execution_count": 103,
     "metadata": {},
     "output_type": "execute_result"
    }
   ],
   "source": [
    "# Get from start_postition to end_position in n-steps (9 steps in this problem)\n",
    "np.linspace(3, 27, 9).reshape(3, 3)"
   ]
  },
  {
   "cell_type": "markdown",
   "id": "07dbd8c2",
   "metadata": {},
   "source": [
    "# Assignment 2\n",
    "\n",
    "There is a Assignment 2 for Numpy called [Numpy Array Operations](https://jovian.ai/aakashns/numpy-array-operations). \n",
    "\n",
    "Pick 5 interesting Numpy array functions by going through this [documentation](https://numpy.org/doc/stable/reference/routines.html). Then provide explainations and 3 examples (one beign an example for when the fct fails). \n",
    "\n",
    "The functions I will be choosing are..."
   ]
  },
  {
   "cell_type": "markdown",
   "id": "f6269063",
   "metadata": {},
   "source": [
    "### Function 1 - numpy.linalg\n",
    "Numy comes with many linear lagebra operations like...\n",
    "- .det() : calculates determinate of an array\n",
    "- .inv() : calculates inverse\n",
    "- .eig()/.eigvals() : finds eig of array\n",
    "- etc"
   ]
  },
  {
   "cell_type": "code",
   "execution_count": 5,
   "id": "73f7d7a2",
   "metadata": {},
   "outputs": [],
   "source": [
    "# to get all the linear algebra features....\n",
    "from numpy import linalg"
   ]
  },
  {
   "cell_type": "code",
   "execution_count": 128,
   "id": "71037ac0",
   "metadata": {},
   "outputs": [
    {
     "name": "stdout",
     "output_type": "stream",
     "text": [
      "2.9999999999999996\n",
      " \n",
      "[[0.66666667 0.33333333]\n",
      " [0.33333333 0.66666667]]\n"
     ]
    }
   ],
   "source": [
    "ex_matrix = np.array([[2, -1], \n",
    "                     [-1, 2]])\n",
    "\n",
    "print(linalg.det(ex_matrix))\n",
    "\n",
    "print(\" \")\n",
    "\n",
    "print(linalg.inv(ex_matrix))"
   ]
  },
  {
   "cell_type": "markdown",
   "id": "1dfcf85e",
   "metadata": {},
   "source": [
    "# 100 Exercises\n",
    "\n",
    "[Link](https://jovian.ai/aakashns/100-numpy-exercises)\n",
    "\n",
    "Here's a few i decided to tackle"
   ]
  },
  {
   "cell_type": "code",
   "execution_count": 145,
   "id": "a9faa841",
   "metadata": {},
   "outputs": [
    {
     "name": "stdout",
     "output_type": "stream",
     "text": [
      "Question 6: \n",
      "[0. 0. 0. 0. 1. 0. 0. 0. 0. 0.]\n",
      " \n",
      "Question 7: \n",
      "[10 11 12 13 14 15 16 17 18 19 20 21 22 23 24 25 26 27 28 29 30 31 32 33\n",
      " 34 35 36 37 38 39 40 41 42 43 44 45 46 47 48 49]\n",
      " \n",
      "Question 8: \n",
      "[49 48 47 46 45 44 43 42 41 40 39 38 37 36 35 34 33 32 31 30 29 28 27 26\n",
      " 25 24 23 22 21 20 19 18 17 16 15 14 13 12 11 10]\n",
      " \n",
      "Question 10: \n",
      "(array([0, 1, 4]),)\n",
      " \n"
     ]
    }
   ],
   "source": [
    "# 6. Create a null vector of size 10 but the fifth value which is 1 (★☆☆)\n",
    "q_6 = np.zeros(10)\n",
    "q_6[4] = 1\n",
    "print(\"Question 6: \")\n",
    "print(q_6)\n",
    "print(\" \")\n",
    "\n",
    "# 7. Create a vector with values ranging from 10 to 49 (★☆☆)\n",
    "q_7 = np.arange(10, 50)\n",
    "print(\"Question 7: \")\n",
    "print(q_7)\n",
    "print(\" \")\n",
    "\n",
    "# 8. Reverse a vector (first element becomes last) (★☆☆)\n",
    "q_8 = np.flip(q_7)\n",
    "# OR\n",
    "# q_8 = q_7[::-1]\n",
    "print(\"Question 8: \")\n",
    "print(q_8)\n",
    "print(\" \")\n",
    "\n",
    "# 10. Find indices of non-zero elements from [1,2,0,0,4,0] (★☆☆)\n",
    "given_10 = np.array([1,2,0,0,4,0])\n",
    "q_10 = np.nonzero(given_10)\n",
    "print(\"Question 10: \")\n",
    "print(q_10)\n",
    "print(\" \")"
   ]
  },
  {
   "cell_type": "code",
   "execution_count": 228,
   "id": "a3b626c2",
   "metadata": {},
   "outputs": [
    {
     "name": "stdout",
     "output_type": "stream",
     "text": [
      "Question 13: \n",
      "The max value in this array is 0.995337994606089\n",
      "The min value in this array is 0.0025451845663834183\n",
      " \n",
      "Question 13: \n",
      "[[1. 1. 1. 1.]\n",
      " [1. 0. 0. 1.]\n",
      " [1. 0. 0. 1.]\n",
      " [1. 1. 1. 1.]]\n",
      " \n",
      "Question 18: \n",
      "[[0 1 0 1 0 1 0 1]\n",
      " [1 0 1 0 1 0 1 0]\n",
      " [0 1 0 1 0 1 0 1]\n",
      " [1 0 1 0 1 0 1 0]\n",
      " [0 1 0 1 0 1 0 1]\n",
      " [1 0 1 0 1 0 1 0]\n",
      " [0 1 0 1 0 1 0 1]\n",
      " [1 0 1 0 1 0 1 0]]\n",
      " \n"
     ]
    }
   ],
   "source": [
    "# 13. Create a 10x10 array with random values and find the minimum and maximum values (★☆☆)\n",
    "array_13 = np.random.rand(10,10)\n",
    "print(\"Question 13: \")\n",
    "print(f\"The max value in this array is {np.max(array_13)}\")\n",
    "print(f\"The min value in this array is {np.min(array_13)}\")\n",
    "print(\" \")\n",
    "\n",
    "\n",
    "# 15. Create a 2d array with 1 on the border and 0 inside (★☆☆)\n",
    "q_15 = np.ones((4, 4))\n",
    "for i in range(len(q_15)):\n",
    "    if i!= 0 and i != len(q_15) - 1:\n",
    "        for j in range(len(q_15)):\n",
    "            if j!= 0 and j != len(q_15) - 1:\n",
    "                q_15[i, j] = 0\n",
    "print(\"Question 13: \")\n",
    "print(q_15)\n",
    "print(\" \")\n",
    "\n",
    "\n",
    "# 19. Create a 8x8 matrix and fill it with a checkerboard pattern (★☆☆)\n",
    "q_18 = np.zeros((8, 8), dtype = int)\n",
    "q_18[1::2, ::2] = 1\n",
    "q_18[::2, 1::2] = 1\n",
    "print(\"Question 18: \")\n",
    "print(q_18)\n",
    "print(\" \")\n",
    "\n"
   ]
  },
  {
   "cell_type": "code",
   "execution_count": 281,
   "id": "f644e81a",
   "metadata": {},
   "outputs": [
    {
     "name": "stdout",
     "output_type": "stream",
     "text": [
      "Question 22: \n",
      "[[ 0.8846352  -0.8071015  -0.64020349 -0.79080545  0.76247659]\n",
      " [ 0.29258139  0.37471931  1.37839186 -2.06387943 -0.38501781]\n",
      " [-1.09916443  0.05226903  1.21805728 -1.28452818  1.03539977]\n",
      " [ 1.46126782  0.2020224   0.72585082  0.39658743  1.1116696 ]\n",
      " [-1.21523565 -1.15292383 -1.55253737  0.33981081  0.75565783]]\n",
      " \n",
      "Question 24: \n",
      "[[112 118]\n",
      " [274 289]\n",
      " [436 460]\n",
      " [598 631]\n",
      " [760 802]]\n",
      " \n",
      "Question 25: \n",
      "[ 0  1  2  3 -4 -5 -6 -7  8  9 10]\n",
      " \n",
      "Question 30: \n",
      "[45 60]\n",
      " \n"
     ]
    },
    {
     "name": "stderr",
     "output_type": "stream",
     "text": [
      "<ipython-input-281-4752aa663573>:10: FutureWarning: Passing (type, 1) or '1type' as a synonym of type is deprecated; in a future version of numpy, it will be understood as (type, (1,)) / '(1,)type'.\n",
      "  q_23 = np.dtype([(\"r\", np.ubyte, 1),\n"
     ]
    }
   ],
   "source": [
    "# 22. Normalize a 5x5 random matrix (★☆☆)\n",
    "q_22 = np.random.rand(5,5)\n",
    "q_22 = (q_22 - np.mean (q_22)) / (np.std(q_22) )\n",
    "print(\"Question 22: \")\n",
    "print(q_22)\n",
    "print(\" \")\n",
    "\n",
    "\n",
    "# 23. Create a custom dtype that describes a color as four unsigned bytes (RGBA) (★☆☆)\n",
    "q_23 = np.dtype([(\"r\", np.ubyte, 1), \n",
    "                (\"g\", np.ubyte, 1), \n",
    "                (\"b\", np.ubyte, 1), \n",
    "                (\"a\", np.ubyte, 1)])\n",
    "\n",
    "\n",
    "# 24. Multiply a 5x3 matrix by a 3x2 matrix (real matrix product) (★☆☆)\n",
    "arr1_q_24 = np.arange(1, 16).reshape(5, 3)\n",
    "arr2_q_24 = np.arange(16, 22).reshape(3, 2)\n",
    "q_24 = arr1_q_24 @ arr2_q_24\n",
    "print(\"Question 24: \")\n",
    "print(q_24)\n",
    "print(\" \")\n",
    "\n",
    "\n",
    "# 25. Given a 1D array, negate all elements which are between 3 and 8, in place. (★☆☆)\n",
    "q_25 = np.arange(11)\n",
    "q_25[(q_25 > 3) & (q_25 < 8)] *= -1\n",
    "print(\"Question 25: \")\n",
    "print(q_25)\n",
    "print(\" \")\n",
    "\n",
    "\n",
    "# 30. How to find common values between two arrays? (★☆☆)\n",
    "arr1_q_30 = np.array([24, 60, 58, 23, 45])\n",
    "arr2_q_30 = np.array([50, 46, 45, 65, 60, 78])\n",
    "q_30 = np.intersect1d(arr1_q_30, arr2_q_30)\n",
    "print(\"Question 30: \")\n",
    "print(q_30)\n",
    "print(\" \")\n"
   ]
  },
  {
   "cell_type": "code",
   "execution_count": 35,
   "id": "c4ce7da1",
   "metadata": {},
   "outputs": [
    {
     "name": "stdout",
     "output_type": "stream",
     "text": [
      "Question 33: \n",
      "Today is 2021-11-07\n",
      "Yesterday was 2021-11-06\n",
      "Tomorrow is 2021-11-08\n",
      " \n",
      "Question 34: \n",
      "The month of july in 2016: ['2016-07-01' '2016-07-02' '2016-07-03' '2016-07-04' '2016-07-05'\n",
      " '2016-07-06' '2016-07-07' '2016-07-08' '2016-07-09' '2016-07-10'\n",
      " '2016-07-11' '2016-07-12' '2016-07-13' '2016-07-14' '2016-07-15'\n",
      " '2016-07-16' '2016-07-17' '2016-07-18' '2016-07-19' '2016-07-20'\n",
      " '2016-07-21' '2016-07-22' '2016-07-23' '2016-07-24' '2016-07-25'\n",
      " '2016-07-26' '2016-07-27' '2016-07-28' '2016-07-29' '2016-07-30'\n",
      " '2016-07-31']\n",
      " \n"
     ]
    }
   ],
   "source": [
    "# 33. How to get the dates of yesterday, today and tomorrow? (★☆☆)\n",
    "print(\"Question 33: \")\n",
    "print(f\"Today is {np.datetime64('today', 'D')}\")\n",
    "yesterday = np.datetime64('today', 'D') - np.timedelta64(1, \"D\")\n",
    "print(f\"Yesterday was {yesterday}\")\n",
    "tomorrow = np.datetime64('today', 'D') + np.timedelta64(1, \"D\")\n",
    "print(f\"Tomorrow is {tomorrow}\")\n",
    "            # you can do many amazing things with `np.datetime64()` and `np.timedelta64()`\n",
    "print(\" \")\n",
    "\n",
    "\n",
    "# 34. How to get all the dates corresponding to the month of July 2016? (★★☆)\n",
    "july_2016 = np.arange('2016-07', '2016-08', dtype='datetime64[D]')\n",
    "print(\"Question 34: \")\n",
    "print(f\"The month of july in 2016: {july_2016}\")\n",
    "print(\" \")"
   ]
  },
  {
   "cell_type": "code",
   "execution_count": 71,
   "id": "9eba10e3",
   "metadata": {},
   "outputs": [
    {
     "name": "stdout",
     "output_type": "stream",
     "text": [
      "Question 44: \n",
      "[[1.14552316 1.05194854]\n",
      " [1.02549271 0.73306039]\n",
      " [1.28315353 0.84541938]\n",
      " [0.86122854 0.06896492]\n",
      " [0.39175376 0.4970777 ]\n",
      " [0.32865112 1.04884567]\n",
      " [0.93779553 0.06073634]\n",
      " [0.88320942 0.87419279]\n",
      " [0.15931197 1.25814543]\n",
      " [0.44564912 0.08314502]]\n",
      "\n",
      "[0.23075992 0.67282272 0.01455762 0.91121524 0.53341547 0.12416094\n",
      " 0.12005092 0.         0.46311404 0.8819677 ]\n"
     ]
    }
   ],
   "source": [
    "# 44. Consider a random 10x2 matrix representing cartesian coordinates, \n",
    "#          and convert them to polar coordinates (★★☆)\n",
    "q_44 = np.random.rand(10, 2)\n",
    "X, Y = q_44[:,0], q_44[:, 1]\n",
    "R = np.sqrt(X**2+Y**2).reshape(10,1)\n",
    "T = np.arctan2(Y,X).reshape(10, 1)\n",
    "q_44_polar = np.concatenate((R, T), axis=1)\n",
    "print(\"Question 44: \")\n",
    "print(q_44_polar)\n",
    "print(\"\")\n",
    "\n",
    "\n",
    "# 45. Create random vector of size 10 and replace the maximum value by 0 (★★☆)\n",
    "q_45 = np.random.rand(10)\n",
    "q_45[q_45.argmax()] = 0\n",
    "print(q_45)"
   ]
  },
  {
   "cell_type": "code",
   "execution_count": 77,
   "id": "c017fbe1",
   "metadata": {},
   "outputs": [
    {
     "name": "stdout",
     "output_type": "stream",
     "text": [
      "Question 44: \n",
      "Before row swap....\n",
      "[[ 0  1  2  3  4]\n",
      " [ 5  6  7  8  9]\n",
      " [10 11 12 13 14]\n",
      " [15 16 17 18 19]\n",
      " [20 21 22 23 24]]\n",
      "After row swap....\n",
      "[[ 0  1  2  3  4]\n",
      " [ 5  6  7  8  9]\n",
      " [20 21 22 23 24]\n",
      " [15 16 17 18 19]\n",
      " [10 11 12 13 14]]\n"
     ]
    }
   ],
   "source": [
    "# 72. How to swap two rows of an array? (★★★)\n",
    "q_72 = np.arange(25).reshape((5,5))\n",
    "print(\"Question 72: \")\n",
    "print(\"Before row swap....\")\n",
    "print(q_72)\n",
    "print(\"After row swap....\")\n",
    "q_72[[2,4]]=q_72[[4, 2]]\n",
    "print(q_72)"
   ]
  }
 ],
 "metadata": {
  "kernelspec": {
   "display_name": "Python 3",
   "language": "python",
   "name": "python3"
  },
  "language_info": {
   "codemirror_mode": {
    "name": "ipython",
    "version": 3
   },
   "file_extension": ".py",
   "mimetype": "text/x-python",
   "name": "python",
   "nbconvert_exporter": "python",
   "pygments_lexer": "ipython3",
   "version": "3.8.8"
  }
 },
 "nbformat": 4,
 "nbformat_minor": 5
}
